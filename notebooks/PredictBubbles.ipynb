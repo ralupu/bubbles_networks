{
 "cells": [
  {
   "cell_type": "code",
   "execution_count": 1,
   "id": "065a82b6-bc11-4a11-9dcc-3a285450b798",
   "metadata": {},
   "outputs": [],
   "source": [
    "import numpy as np\n",
    "import pandas as pd\n",
    "from sklearn import datasets\n",
    "\n",
    "import matplotlib.pyplot as plt\n",
    "from neuralforecast import NeuralForecast\n",
    "from neuralforecast.models import MLP, NHITS, LSTM\n",
    "from neuralforecast.losses.pytorch import DistributionLoss, Accuracy"
   ]
  },
  {
   "cell_type": "code",
   "execution_count": 2,
   "id": "1d9cfdb9-5386-435c-bff2-957582a5bb95",
   "metadata": {},
   "outputs": [
    {
     "data": {
      "text/html": [
       "<div>\n",
       "<style scoped>\n",
       "    .dataframe tbody tr th:only-of-type {\n",
       "        vertical-align: middle;\n",
       "    }\n",
       "\n",
       "    .dataframe tbody tr th {\n",
       "        vertical-align: top;\n",
       "    }\n",
       "\n",
       "    .dataframe thead th {\n",
       "        text-align: right;\n",
       "    }\n",
       "</style>\n",
       "<table border=\"1\" class=\"dataframe\">\n",
       "  <thead>\n",
       "    <tr style=\"text-align: right;\">\n",
       "      <th></th>\n",
       "      <th>Date</th>\n",
       "      <th>ENXFP</th>\n",
       "      <th>PSPNSE</th>\n",
       "      <th>BOLSS</th>\n",
       "      <th>SOIFP</th>\n",
       "      <th>URWFP</th>\n",
       "      <th>WIEAV</th>\n",
       "      <th>INPSTNA</th>\n",
       "      <th>KPNNA</th>\n",
       "      <th>NEMGY</th>\n",
       "      <th>...</th>\n",
       "      <th>TITIM</th>\n",
       "      <th>NDAGY</th>\n",
       "      <th>HOLMBSS</th>\n",
       "      <th>AMPIM</th>\n",
       "      <th>HELNSE</th>\n",
       "      <th>FHZNSE</th>\n",
       "      <th>SFSNSE</th>\n",
       "      <th>GLENLN</th>\n",
       "      <th>PEOPW</th>\n",
       "      <th>LISPSE</th>\n",
       "    </tr>\n",
       "  </thead>\n",
       "  <tbody>\n",
       "    <tr>\n",
       "      <th>0</th>\n",
       "      <td>2015-01-05</td>\n",
       "      <td>24.106</td>\n",
       "      <td>86.00</td>\n",
       "      <td>127.4</td>\n",
       "      <td>16.633</td>\n",
       "      <td>209.85</td>\n",
       "      <td>11.45</td>\n",
       "      <td>16.0</td>\n",
       "      <td>2.519</td>\n",
       "      <td>7.141</td>\n",
       "      <td>...</td>\n",
       "      <td>0.8500</td>\n",
       "      <td>45.835</td>\n",
       "      <td>134.75</td>\n",
       "      <td>5.025</td>\n",
       "      <td>93.90</td>\n",
       "      <td>134.0</td>\n",
       "      <td>77.1</td>\n",
       "      <td>281.066</td>\n",
       "      <td>173.9</td>\n",
       "      <td>5080</td>\n",
       "    </tr>\n",
       "    <tr>\n",
       "      <th>1</th>\n",
       "      <td>2015-01-06</td>\n",
       "      <td>24.192</td>\n",
       "      <td>85.35</td>\n",
       "      <td>127.4</td>\n",
       "      <td>16.633</td>\n",
       "      <td>210.15</td>\n",
       "      <td>11.45</td>\n",
       "      <td>16.0</td>\n",
       "      <td>2.523</td>\n",
       "      <td>7.093</td>\n",
       "      <td>...</td>\n",
       "      <td>0.8575</td>\n",
       "      <td>46.745</td>\n",
       "      <td>134.75</td>\n",
       "      <td>5.025</td>\n",
       "      <td>93.95</td>\n",
       "      <td>132.8</td>\n",
       "      <td>76.2</td>\n",
       "      <td>282.658</td>\n",
       "      <td>173.9</td>\n",
       "      <td>4892</td>\n",
       "    </tr>\n",
       "  </tbody>\n",
       "</table>\n",
       "<p>2 rows × 601 columns</p>\n",
       "</div>"
      ],
      "text/plain": [
       "        Date   ENXFP  PSPNSE  BOLSS   SOIFP   URWFP  WIEAV  INPSTNA  KPNNA  \\\n",
       "0 2015-01-05  24.106   86.00  127.4  16.633  209.85  11.45     16.0  2.519   \n",
       "1 2015-01-06  24.192   85.35  127.4  16.633  210.15  11.45     16.0  2.523   \n",
       "\n",
       "   NEMGY  ...   TITIM   NDAGY  HOLMBSS  AMPIM  HELNSE  FHZNSE  SFSNSE  \\\n",
       "0  7.141  ...  0.8500  45.835   134.75  5.025   93.90   134.0    77.1   \n",
       "1  7.093  ...  0.8575  46.745   134.75  5.025   93.95   132.8    76.2   \n",
       "\n",
       "    GLENLN  PEOPW  LISPSE  \n",
       "0  281.066  173.9    5080  \n",
       "1  282.658  173.9    4892  \n",
       "\n",
       "[2 rows x 601 columns]"
      ]
     },
     "execution_count": 2,
     "metadata": {},
     "output_type": "execute_result"
    }
   ],
   "source": [
    "prices = pd.read_excel('Final_stoxx600_2015_2023.xlsx', sheet_name='Shares')\n",
    "prices.columns = [col.replace(' ', '') for col in prices.columns]\n",
    "# prices.index=pd.to_datetime(prices['Date'])\n",
    "# prices = prices.drop('Date', axis=1)\n",
    "prices = prices.drop(prices.index[0]).reset_index(drop=True)\n",
    "prices.head(2)"
   ]
  },
  {
   "cell_type": "code",
   "execution_count": 3,
   "id": "7328087a-636e-4f69-b539-d00cf2c5d976",
   "metadata": {},
   "outputs": [
    {
     "data": {
      "text/html": [
       "<div>\n",
       "<style scoped>\n",
       "    .dataframe tbody tr th:only-of-type {\n",
       "        vertical-align: middle;\n",
       "    }\n",
       "\n",
       "    .dataframe tbody tr th {\n",
       "        vertical-align: top;\n",
       "    }\n",
       "\n",
       "    .dataframe thead th {\n",
       "        text-align: right;\n",
       "    }\n",
       "</style>\n",
       "<table border=\"1\" class=\"dataframe\">\n",
       "  <thead>\n",
       "    <tr style=\"text-align: right;\">\n",
       "      <th></th>\n",
       "      <th>Date</th>\n",
       "      <th>PSPNSE</th>\n",
       "      <th>BOLSS</th>\n",
       "      <th>SOIFP</th>\n",
       "      <th>URWFP</th>\n",
       "      <th>WIEAV</th>\n",
       "      <th>INPSTNA</th>\n",
       "      <th>KPNNA</th>\n",
       "      <th>NEMGY</th>\n",
       "      <th>CARLBDC</th>\n",
       "      <th>...</th>\n",
       "      <th>TITIM</th>\n",
       "      <th>NDAGY</th>\n",
       "      <th>HOLMBSS</th>\n",
       "      <th>AMPIM</th>\n",
       "      <th>HELNSE</th>\n",
       "      <th>FHZNSE</th>\n",
       "      <th>SFSNSE</th>\n",
       "      <th>GLENLN</th>\n",
       "      <th>PEOPW</th>\n",
       "      <th>LISPSE</th>\n",
       "    </tr>\n",
       "  </thead>\n",
       "  <tbody>\n",
       "    <tr>\n",
       "      <th>0</th>\n",
       "      <td>2015-01-05</td>\n",
       "      <td>0</td>\n",
       "      <td>0</td>\n",
       "      <td>0</td>\n",
       "      <td>0</td>\n",
       "      <td>0</td>\n",
       "      <td>0</td>\n",
       "      <td>0</td>\n",
       "      <td>0</td>\n",
       "      <td>0</td>\n",
       "      <td>...</td>\n",
       "      <td>0</td>\n",
       "      <td>0</td>\n",
       "      <td>0</td>\n",
       "      <td>0</td>\n",
       "      <td>0</td>\n",
       "      <td>0</td>\n",
       "      <td>0</td>\n",
       "      <td>0</td>\n",
       "      <td>0</td>\n",
       "      <td>0</td>\n",
       "    </tr>\n",
       "    <tr>\n",
       "      <th>1</th>\n",
       "      <td>2015-01-06</td>\n",
       "      <td>0</td>\n",
       "      <td>0</td>\n",
       "      <td>0</td>\n",
       "      <td>0</td>\n",
       "      <td>0</td>\n",
       "      <td>0</td>\n",
       "      <td>0</td>\n",
       "      <td>0</td>\n",
       "      <td>0</td>\n",
       "      <td>...</td>\n",
       "      <td>0</td>\n",
       "      <td>0</td>\n",
       "      <td>0</td>\n",
       "      <td>0</td>\n",
       "      <td>0</td>\n",
       "      <td>0</td>\n",
       "      <td>0</td>\n",
       "      <td>0</td>\n",
       "      <td>0</td>\n",
       "      <td>0</td>\n",
       "    </tr>\n",
       "  </tbody>\n",
       "</table>\n",
       "<p>2 rows × 600 columns</p>\n",
       "</div>"
      ],
      "text/plain": [
       "        Date  PSPNSE  BOLSS  SOIFP  URWFP  WIEAV  INPSTNA  KPNNA  NEMGY  \\\n",
       "0 2015-01-05       0      0      0      0      0        0      0      0   \n",
       "1 2015-01-06       0      0      0      0      0        0      0      0   \n",
       "\n",
       "   CARLBDC  ...  TITIM  NDAGY  HOLMBSS  AMPIM  HELNSE  FHZNSE  SFSNSE  GLENLN  \\\n",
       "0        0  ...      0      0        0      0       0       0       0       0   \n",
       "1        0  ...      0      0        0      0       0       0       0       0   \n",
       "\n",
       "   PEOPW  LISPSE  \n",
       "0      0       0  \n",
       "1      0       0  \n",
       "\n",
       "[2 rows x 600 columns]"
      ]
     },
     "execution_count": 3,
     "metadata": {},
     "output_type": "execute_result"
    }
   ],
   "source": [
    "bubble_res_BUB = pd.read_excel('ResultResults_SXXP_2015_2023.xlsx', sheet_name='BUB (CVM= WB, CVQ=95%, L=0)')\n",
    "bubble_res_BUB['Date']=pd.to_datetime(prices['Date'])\n",
    "# bubble_res_BUB = bubble_res_BUB.drop('Date', axis=1)\n",
    "bubble_res_BUB.head(2)"
   ]
  },
  {
   "cell_type": "code",
   "execution_count": 4,
   "id": "ffbd6184-f3f9-4070-a9d4-1d9613eaf07f",
   "metadata": {},
   "outputs": [
    {
     "data": {
      "text/plain": [
       "2292"
      ]
     },
     "execution_count": 4,
     "metadata": {},
     "output_type": "execute_result"
    }
   ],
   "source": [
    "len(bubble_res_BUB)"
   ]
  },
  {
   "cell_type": "code",
   "execution_count": 109,
   "id": "f7aa2e16-8d43-4449-86c0-b8845099fad1",
   "metadata": {},
   "outputs": [
    {
     "data": {
      "text/plain": [
       "True"
      ]
     },
     "execution_count": 109,
     "metadata": {},
     "output_type": "execute_result"
    }
   ],
   "source": [
    "len(bubble_res_BUB)==len(prices)"
   ]
  },
  {
   "cell_type": "code",
   "execution_count": null,
   "id": "f7cb9557-b1c7-495a-bbb5-0c5ae58a403b",
   "metadata": {},
   "outputs": [],
   "source": []
  },
  {
   "cell_type": "code",
   "execution_count": 110,
   "id": "cc692fbe-d00c-431f-aec2-da583e556766",
   "metadata": {},
   "outputs": [
    {
     "data": {
      "text/html": [
       "<div>\n",
       "<style scoped>\n",
       "    .dataframe tbody tr th:only-of-type {\n",
       "        vertical-align: middle;\n",
       "    }\n",
       "\n",
       "    .dataframe tbody tr th {\n",
       "        vertical-align: top;\n",
       "    }\n",
       "\n",
       "    .dataframe thead th {\n",
       "        text-align: right;\n",
       "    }\n",
       "</style>\n",
       "<table border=\"1\" class=\"dataframe\">\n",
       "  <thead>\n",
       "    <tr style=\"text-align: right;\">\n",
       "      <th></th>\n",
       "      <th>unique_id</th>\n",
       "      <th>ds</th>\n",
       "      <th>y</th>\n",
       "      <th>prices</th>\n",
       "    </tr>\n",
       "  </thead>\n",
       "  <tbody>\n",
       "    <tr>\n",
       "      <th>0</th>\n",
       "      <td>PSPNSE</td>\n",
       "      <td>2015-01-05</td>\n",
       "      <td>0</td>\n",
       "      <td>86.00</td>\n",
       "    </tr>\n",
       "    <tr>\n",
       "      <th>1</th>\n",
       "      <td>PSPNSE</td>\n",
       "      <td>2015-01-06</td>\n",
       "      <td>0</td>\n",
       "      <td>85.35</td>\n",
       "    </tr>\n",
       "    <tr>\n",
       "      <th>2</th>\n",
       "      <td>PSPNSE</td>\n",
       "      <td>2015-01-07</td>\n",
       "      <td>0</td>\n",
       "      <td>86.75</td>\n",
       "    </tr>\n",
       "    <tr>\n",
       "      <th>3</th>\n",
       "      <td>PSPNSE</td>\n",
       "      <td>2015-01-08</td>\n",
       "      <td>0</td>\n",
       "      <td>87.10</td>\n",
       "    </tr>\n",
       "    <tr>\n",
       "      <th>4</th>\n",
       "      <td>PSPNSE</td>\n",
       "      <td>2015-01-09</td>\n",
       "      <td>0</td>\n",
       "      <td>88.05</td>\n",
       "    </tr>\n",
       "    <tr>\n",
       "      <th>...</th>\n",
       "      <td>...</td>\n",
       "      <td>...</td>\n",
       "      <td>...</td>\n",
       "      <td>...</td>\n",
       "    </tr>\n",
       "    <tr>\n",
       "      <th>4579</th>\n",
       "      <td>BOLSS</td>\n",
       "      <td>2023-10-11</td>\n",
       "      <td>0</td>\n",
       "      <td>307.75</td>\n",
       "    </tr>\n",
       "    <tr>\n",
       "      <th>4580</th>\n",
       "      <td>BOLSS</td>\n",
       "      <td>2023-10-12</td>\n",
       "      <td>0</td>\n",
       "      <td>306.50</td>\n",
       "    </tr>\n",
       "    <tr>\n",
       "      <th>4581</th>\n",
       "      <td>BOLSS</td>\n",
       "      <td>2023-10-13</td>\n",
       "      <td>0</td>\n",
       "      <td>307.95</td>\n",
       "    </tr>\n",
       "    <tr>\n",
       "      <th>4582</th>\n",
       "      <td>BOLSS</td>\n",
       "      <td>2023-10-16</td>\n",
       "      <td>0</td>\n",
       "      <td>311.45</td>\n",
       "    </tr>\n",
       "    <tr>\n",
       "      <th>4583</th>\n",
       "      <td>BOLSS</td>\n",
       "      <td>2023-10-17</td>\n",
       "      <td>0</td>\n",
       "      <td>298.20</td>\n",
       "    </tr>\n",
       "  </tbody>\n",
       "</table>\n",
       "<p>4584 rows × 4 columns</p>\n",
       "</div>"
      ],
      "text/plain": [
       "     unique_id         ds  y  prices\n",
       "0       PSPNSE 2015-01-05  0   86.00\n",
       "1       PSPNSE 2015-01-06  0   85.35\n",
       "2       PSPNSE 2015-01-07  0   86.75\n",
       "3       PSPNSE 2015-01-08  0   87.10\n",
       "4       PSPNSE 2015-01-09  0   88.05\n",
       "...        ...        ... ..     ...\n",
       "4579     BOLSS 2023-10-11  0  307.75\n",
       "4580     BOLSS 2023-10-12  0  306.50\n",
       "4581     BOLSS 2023-10-13  0  307.95\n",
       "4582     BOLSS 2023-10-16  0  311.45\n",
       "4583     BOLSS 2023-10-17  0  298.20\n",
       "\n",
       "[4584 rows x 4 columns]"
      ]
     },
     "execution_count": 110,
     "metadata": {},
     "output_type": "execute_result"
    }
   ],
   "source": [
    "nixtla_df = bubble_res_BUB[['Date','PSPNSE','BOLSS']].melt(var_name='unique_id', id_vars = ['Date'], value_name='y')\n",
    "nixtla_df =nixtla_df[['unique_id', 'Date', 'y']]\n",
    "nixtla_df = nixtla_df.rename(columns={'Date': 'ds'})\n",
    "prices_nixtla = prices[['Date','PSPNSE','BOLSS']].melt(var_name='unique_id', id_vars = ['Date'], value_name='prices')\n",
    "nixtla_df['prices']=prices_nixtla['prices'].values\n",
    "# nixtla_df['ds']=prices_nixtla['Date']\n",
    "nixtla_df['ds']=pd.to_datetime(nixtla_df['ds'])\n",
    "nixtla_df"
   ]
  },
  {
   "cell_type": "code",
   "execution_count": null,
   "id": "c3beeb29-359f-4876-bb68-921ae2fbdb00",
   "metadata": {},
   "outputs": [],
   "source": []
  },
  {
   "cell_type": "code",
   "execution_count": 111,
   "id": "d4ec1286-82ff-4414-bfea-7f55598beed4",
   "metadata": {},
   "outputs": [
    {
     "name": "stderr",
     "output_type": "stream",
     "text": [
      "Seed set to 1\n",
      "Seed set to 1\n"
     ]
    },
    {
     "data": {
      "application/vnd.jupyter.widget-view+json": {
       "model_id": "",
       "version_major": 2,
       "version_minor": 0
      },
      "text/plain": [
       "Sanity Checking: |                                                                               | 0/? [00:00<…"
      ]
     },
     "metadata": {},
     "output_type": "display_data"
    },
    {
     "data": {
      "application/vnd.jupyter.widget-view+json": {
       "model_id": "f4a3d77e63f24a85bef5f37c793bb4a4",
       "version_major": 2,
       "version_minor": 0
      },
      "text/plain": [
       "Training: |                                                                                      | 0/? [00:00<…"
      ]
     },
     "metadata": {},
     "output_type": "display_data"
    },
    {
     "data": {
      "application/vnd.jupyter.widget-view+json": {
       "model_id": "",
       "version_major": 2,
       "version_minor": 0
      },
      "text/plain": [
       "Validation: |                                                                                    | 0/? [00:00<…"
      ]
     },
     "metadata": {},
     "output_type": "display_data"
    },
    {
     "data": {
      "application/vnd.jupyter.widget-view+json": {
       "model_id": "",
       "version_major": 2,
       "version_minor": 0
      },
      "text/plain": [
       "Validation: |                                                                                    | 0/? [00:00<…"
      ]
     },
     "metadata": {},
     "output_type": "display_data"
    },
    {
     "data": {
      "application/vnd.jupyter.widget-view+json": {
       "model_id": "",
       "version_major": 2,
       "version_minor": 0
      },
      "text/plain": [
       "Validation: |                                                                                    | 0/? [00:00<…"
      ]
     },
     "metadata": {},
     "output_type": "display_data"
    },
    {
     "data": {
      "application/vnd.jupyter.widget-view+json": {
       "model_id": "",
       "version_major": 2,
       "version_minor": 0
      },
      "text/plain": [
       "Validation: |                                                                                    | 0/? [00:00<…"
      ]
     },
     "metadata": {},
     "output_type": "display_data"
    },
    {
     "data": {
      "application/vnd.jupyter.widget-view+json": {
       "model_id": "",
       "version_major": 2,
       "version_minor": 0
      },
      "text/plain": [
       "Validation: |                                                                                    | 0/? [00:00<…"
      ]
     },
     "metadata": {},
     "output_type": "display_data"
    },
    {
     "data": {
      "application/vnd.jupyter.widget-view+json": {
       "model_id": "",
       "version_major": 2,
       "version_minor": 0
      },
      "text/plain": [
       "Validation: |                                                                                    | 0/? [00:00<…"
      ]
     },
     "metadata": {},
     "output_type": "display_data"
    },
    {
     "data": {
      "application/vnd.jupyter.widget-view+json": {
       "model_id": "",
       "version_major": 2,
       "version_minor": 0
      },
      "text/plain": [
       "Validation: |                                                                                    | 0/? [00:00<…"
      ]
     },
     "metadata": {},
     "output_type": "display_data"
    },
    {
     "data": {
      "application/vnd.jupyter.widget-view+json": {
       "model_id": "",
       "version_major": 2,
       "version_minor": 0
      },
      "text/plain": [
       "Validation: |                                                                                    | 0/? [00:00<…"
      ]
     },
     "metadata": {},
     "output_type": "display_data"
    },
    {
     "data": {
      "application/vnd.jupyter.widget-view+json": {
       "model_id": "",
       "version_major": 2,
       "version_minor": 0
      },
      "text/plain": [
       "Validation: |                                                                                    | 0/? [00:00<…"
      ]
     },
     "metadata": {},
     "output_type": "display_data"
    },
    {
     "data": {
      "application/vnd.jupyter.widget-view+json": {
       "model_id": "",
       "version_major": 2,
       "version_minor": 0
      },
      "text/plain": [
       "Validation: |                                                                                    | 0/? [00:00<…"
      ]
     },
     "metadata": {},
     "output_type": "display_data"
    },
    {
     "data": {
      "application/vnd.jupyter.widget-view+json": {
       "model_id": "",
       "version_major": 2,
       "version_minor": 0
      },
      "text/plain": [
       "Validation: |                                                                                    | 0/? [00:00<…"
      ]
     },
     "metadata": {},
     "output_type": "display_data"
    },
    {
     "data": {
      "application/vnd.jupyter.widget-view+json": {
       "model_id": "",
       "version_major": 2,
       "version_minor": 0
      },
      "text/plain": [
       "Validation: |                                                                                    | 0/? [00:00<…"
      ]
     },
     "metadata": {},
     "output_type": "display_data"
    },
    {
     "data": {
      "application/vnd.jupyter.widget-view+json": {
       "model_id": "",
       "version_major": 2,
       "version_minor": 0
      },
      "text/plain": [
       "Validation: |                                                                                    | 0/? [00:00<…"
      ]
     },
     "metadata": {},
     "output_type": "display_data"
    },
    {
     "data": {
      "application/vnd.jupyter.widget-view+json": {
       "model_id": "",
       "version_major": 2,
       "version_minor": 0
      },
      "text/plain": [
       "Validation: |                                                                                    | 0/? [00:00<…"
      ]
     },
     "metadata": {},
     "output_type": "display_data"
    },
    {
     "data": {
      "application/vnd.jupyter.widget-view+json": {
       "model_id": "",
       "version_major": 2,
       "version_minor": 0
      },
      "text/plain": [
       "Validation: |                                                                                    | 0/? [00:00<…"
      ]
     },
     "metadata": {},
     "output_type": "display_data"
    },
    {
     "data": {
      "application/vnd.jupyter.widget-view+json": {
       "model_id": "",
       "version_major": 2,
       "version_minor": 0
      },
      "text/plain": [
       "Validation: |                                                                                    | 0/? [00:00<…"
      ]
     },
     "metadata": {},
     "output_type": "display_data"
    },
    {
     "data": {
      "application/vnd.jupyter.widget-view+json": {
       "model_id": "",
       "version_major": 2,
       "version_minor": 0
      },
      "text/plain": [
       "Validation: |                                                                                    | 0/? [00:00<…"
      ]
     },
     "metadata": {},
     "output_type": "display_data"
    },
    {
     "data": {
      "application/vnd.jupyter.widget-view+json": {
       "model_id": "",
       "version_major": 2,
       "version_minor": 0
      },
      "text/plain": [
       "Validation: |                                                                                    | 0/? [00:00<…"
      ]
     },
     "metadata": {},
     "output_type": "display_data"
    },
    {
     "data": {
      "application/vnd.jupyter.widget-view+json": {
       "model_id": "",
       "version_major": 2,
       "version_minor": 0
      },
      "text/plain": [
       "Validation: |                                                                                    | 0/? [00:00<…"
      ]
     },
     "metadata": {},
     "output_type": "display_data"
    },
    {
     "data": {
      "application/vnd.jupyter.widget-view+json": {
       "model_id": "",
       "version_major": 2,
       "version_minor": 0
      },
      "text/plain": [
       "Validation: |                                                                                    | 0/? [00:00<…"
      ]
     },
     "metadata": {},
     "output_type": "display_data"
    },
    {
     "data": {
      "application/vnd.jupyter.widget-view+json": {
       "model_id": "",
       "version_major": 2,
       "version_minor": 0
      },
      "text/plain": [
       "Validation: |                                                                                    | 0/? [00:00<…"
      ]
     },
     "metadata": {},
     "output_type": "display_data"
    },
    {
     "data": {
      "application/vnd.jupyter.widget-view+json": {
       "model_id": "",
       "version_major": 2,
       "version_minor": 0
      },
      "text/plain": [
       "Validation: |                                                                                    | 0/? [00:00<…"
      ]
     },
     "metadata": {},
     "output_type": "display_data"
    },
    {
     "data": {
      "application/vnd.jupyter.widget-view+json": {
       "model_id": "",
       "version_major": 2,
       "version_minor": 0
      },
      "text/plain": [
       "Validation: |                                                                                    | 0/? [00:00<…"
      ]
     },
     "metadata": {},
     "output_type": "display_data"
    },
    {
     "data": {
      "application/vnd.jupyter.widget-view+json": {
       "model_id": "",
       "version_major": 2,
       "version_minor": 0
      },
      "text/plain": [
       "Validation: |                                                                                    | 0/? [00:00<…"
      ]
     },
     "metadata": {},
     "output_type": "display_data"
    },
    {
     "data": {
      "application/vnd.jupyter.widget-view+json": {
       "model_id": "",
       "version_major": 2,
       "version_minor": 0
      },
      "text/plain": [
       "Validation: |                                                                                    | 0/? [00:00<…"
      ]
     },
     "metadata": {},
     "output_type": "display_data"
    },
    {
     "data": {
      "application/vnd.jupyter.widget-view+json": {
       "model_id": "",
       "version_major": 2,
       "version_minor": 0
      },
      "text/plain": [
       "Validation: |                                                                                    | 0/? [00:00<…"
      ]
     },
     "metadata": {},
     "output_type": "display_data"
    },
    {
     "data": {
      "application/vnd.jupyter.widget-view+json": {
       "model_id": "",
       "version_major": 2,
       "version_minor": 0
      },
      "text/plain": [
       "Validation: |                                                                                    | 0/? [00:00<…"
      ]
     },
     "metadata": {},
     "output_type": "display_data"
    },
    {
     "data": {
      "application/vnd.jupyter.widget-view+json": {
       "model_id": "",
       "version_major": 2,
       "version_minor": 0
      },
      "text/plain": [
       "Validation: |                                                                                    | 0/? [00:00<…"
      ]
     },
     "metadata": {},
     "output_type": "display_data"
    },
    {
     "data": {
      "application/vnd.jupyter.widget-view+json": {
       "model_id": "",
       "version_major": 2,
       "version_minor": 0
      },
      "text/plain": [
       "Validation: |                                                                                    | 0/? [00:00<…"
      ]
     },
     "metadata": {},
     "output_type": "display_data"
    },
    {
     "data": {
      "application/vnd.jupyter.widget-view+json": {
       "model_id": "",
       "version_major": 2,
       "version_minor": 0
      },
      "text/plain": [
       "Validation: |                                                                                    | 0/? [00:00<…"
      ]
     },
     "metadata": {},
     "output_type": "display_data"
    },
    {
     "data": {
      "application/vnd.jupyter.widget-view+json": {
       "model_id": "",
       "version_major": 2,
       "version_minor": 0
      },
      "text/plain": [
       "Validation: |                                                                                    | 0/? [00:00<…"
      ]
     },
     "metadata": {},
     "output_type": "display_data"
    },
    {
     "data": {
      "application/vnd.jupyter.widget-view+json": {
       "model_id": "",
       "version_major": 2,
       "version_minor": 0
      },
      "text/plain": [
       "Validation: |                                                                                    | 0/? [00:00<…"
      ]
     },
     "metadata": {},
     "output_type": "display_data"
    },
    {
     "data": {
      "application/vnd.jupyter.widget-view+json": {
       "model_id": "",
       "version_major": 2,
       "version_minor": 0
      },
      "text/plain": [
       "Validation: |                                                                                    | 0/? [00:00<…"
      ]
     },
     "metadata": {},
     "output_type": "display_data"
    },
    {
     "data": {
      "application/vnd.jupyter.widget-view+json": {
       "model_id": "",
       "version_major": 2,
       "version_minor": 0
      },
      "text/plain": [
       "Validation: |                                                                                    | 0/? [00:00<…"
      ]
     },
     "metadata": {},
     "output_type": "display_data"
    },
    {
     "data": {
      "application/vnd.jupyter.widget-view+json": {
       "model_id": "",
       "version_major": 2,
       "version_minor": 0
      },
      "text/plain": [
       "Validation: |                                                                                    | 0/? [00:00<…"
      ]
     },
     "metadata": {},
     "output_type": "display_data"
    },
    {
     "data": {
      "application/vnd.jupyter.widget-view+json": {
       "model_id": "",
       "version_major": 2,
       "version_minor": 0
      },
      "text/plain": [
       "Validation: |                                                                                    | 0/? [00:00<…"
      ]
     },
     "metadata": {},
     "output_type": "display_data"
    },
    {
     "data": {
      "application/vnd.jupyter.widget-view+json": {
       "model_id": "",
       "version_major": 2,
       "version_minor": 0
      },
      "text/plain": [
       "Validation: |                                                                                    | 0/? [00:00<…"
      ]
     },
     "metadata": {},
     "output_type": "display_data"
    },
    {
     "data": {
      "application/vnd.jupyter.widget-view+json": {
       "model_id": "",
       "version_major": 2,
       "version_minor": 0
      },
      "text/plain": [
       "Validation: |                                                                                    | 0/? [00:00<…"
      ]
     },
     "metadata": {},
     "output_type": "display_data"
    },
    {
     "data": {
      "application/vnd.jupyter.widget-view+json": {
       "model_id": "",
       "version_major": 2,
       "version_minor": 0
      },
      "text/plain": [
       "Validation: |                                                                                    | 0/? [00:00<…"
      ]
     },
     "metadata": {},
     "output_type": "display_data"
    },
    {
     "data": {
      "application/vnd.jupyter.widget-view+json": {
       "model_id": "",
       "version_major": 2,
       "version_minor": 0
      },
      "text/plain": [
       "Validation: |                                                                                    | 0/? [00:00<…"
      ]
     },
     "metadata": {},
     "output_type": "display_data"
    },
    {
     "data": {
      "application/vnd.jupyter.widget-view+json": {
       "model_id": "",
       "version_major": 2,
       "version_minor": 0
      },
      "text/plain": [
       "Validation: |                                                                                    | 0/? [00:00<…"
      ]
     },
     "metadata": {},
     "output_type": "display_data"
    },
    {
     "data": {
      "application/vnd.jupyter.widget-view+json": {
       "model_id": "",
       "version_major": 2,
       "version_minor": 0
      },
      "text/plain": [
       "Validation: |                                                                                    | 0/? [00:00<…"
      ]
     },
     "metadata": {},
     "output_type": "display_data"
    },
    {
     "data": {
      "application/vnd.jupyter.widget-view+json": {
       "model_id": "",
       "version_major": 2,
       "version_minor": 0
      },
      "text/plain": [
       "Validation: |                                                                                    | 0/? [00:00<…"
      ]
     },
     "metadata": {},
     "output_type": "display_data"
    },
    {
     "data": {
      "application/vnd.jupyter.widget-view+json": {
       "model_id": "",
       "version_major": 2,
       "version_minor": 0
      },
      "text/plain": [
       "Validation: |                                                                                    | 0/? [00:00<…"
      ]
     },
     "metadata": {},
     "output_type": "display_data"
    },
    {
     "data": {
      "application/vnd.jupyter.widget-view+json": {
       "model_id": "",
       "version_major": 2,
       "version_minor": 0
      },
      "text/plain": [
       "Validation: |                                                                                    | 0/? [00:00<…"
      ]
     },
     "metadata": {},
     "output_type": "display_data"
    },
    {
     "data": {
      "application/vnd.jupyter.widget-view+json": {
       "model_id": "",
       "version_major": 2,
       "version_minor": 0
      },
      "text/plain": [
       "Validation: |                                                                                    | 0/? [00:00<…"
      ]
     },
     "metadata": {},
     "output_type": "display_data"
    },
    {
     "data": {
      "application/vnd.jupyter.widget-view+json": {
       "model_id": "",
       "version_major": 2,
       "version_minor": 0
      },
      "text/plain": [
       "Validation: |                                                                                    | 0/? [00:00<…"
      ]
     },
     "metadata": {},
     "output_type": "display_data"
    },
    {
     "data": {
      "application/vnd.jupyter.widget-view+json": {
       "model_id": "",
       "version_major": 2,
       "version_minor": 0
      },
      "text/plain": [
       "Validation: |                                                                                    | 0/? [00:00<…"
      ]
     },
     "metadata": {},
     "output_type": "display_data"
    },
    {
     "data": {
      "application/vnd.jupyter.widget-view+json": {
       "model_id": "",
       "version_major": 2,
       "version_minor": 0
      },
      "text/plain": [
       "Validation: |                                                                                    | 0/? [00:00<…"
      ]
     },
     "metadata": {},
     "output_type": "display_data"
    },
    {
     "data": {
      "application/vnd.jupyter.widget-view+json": {
       "model_id": "",
       "version_major": 2,
       "version_minor": 0
      },
      "text/plain": [
       "Validation: |                                                                                    | 0/? [00:00<…"
      ]
     },
     "metadata": {},
     "output_type": "display_data"
    },
    {
     "data": {
      "application/vnd.jupyter.widget-view+json": {
       "model_id": "9a951805a51b432bb9a850fe3f257eb2",
       "version_major": 2,
       "version_minor": 0
      },
      "text/plain": [
       "Predicting: |                                                                                    | 0/? [00:00<…"
      ]
     },
     "metadata": {},
     "output_type": "display_data"
    },
    {
     "data": {
      "application/vnd.jupyter.widget-view+json": {
       "model_id": "",
       "version_major": 2,
       "version_minor": 0
      },
      "text/plain": [
       "Sanity Checking: |                                                                               | 0/? [00:00<…"
      ]
     },
     "metadata": {},
     "output_type": "display_data"
    },
    {
     "data": {
      "application/vnd.jupyter.widget-view+json": {
       "model_id": "fdcec44498ac450c85366fb33f14fbf9",
       "version_major": 2,
       "version_minor": 0
      },
      "text/plain": [
       "Training: |                                                                                      | 0/? [00:00<…"
      ]
     },
     "metadata": {},
     "output_type": "display_data"
    },
    {
     "data": {
      "application/vnd.jupyter.widget-view+json": {
       "model_id": "",
       "version_major": 2,
       "version_minor": 0
      },
      "text/plain": [
       "Validation: |                                                                                    | 0/? [00:00<…"
      ]
     },
     "metadata": {},
     "output_type": "display_data"
    },
    {
     "data": {
      "application/vnd.jupyter.widget-view+json": {
       "model_id": "",
       "version_major": 2,
       "version_minor": 0
      },
      "text/plain": [
       "Validation: |                                                                                    | 0/? [00:00<…"
      ]
     },
     "metadata": {},
     "output_type": "display_data"
    },
    {
     "data": {
      "application/vnd.jupyter.widget-view+json": {
       "model_id": "",
       "version_major": 2,
       "version_minor": 0
      },
      "text/plain": [
       "Validation: |                                                                                    | 0/? [00:00<…"
      ]
     },
     "metadata": {},
     "output_type": "display_data"
    },
    {
     "data": {
      "application/vnd.jupyter.widget-view+json": {
       "model_id": "",
       "version_major": 2,
       "version_minor": 0
      },
      "text/plain": [
       "Validation: |                                                                                    | 0/? [00:00<…"
      ]
     },
     "metadata": {},
     "output_type": "display_data"
    },
    {
     "data": {
      "application/vnd.jupyter.widget-view+json": {
       "model_id": "",
       "version_major": 2,
       "version_minor": 0
      },
      "text/plain": [
       "Validation: |                                                                                    | 0/? [00:00<…"
      ]
     },
     "metadata": {},
     "output_type": "display_data"
    },
    {
     "data": {
      "application/vnd.jupyter.widget-view+json": {
       "model_id": "",
       "version_major": 2,
       "version_minor": 0
      },
      "text/plain": [
       "Validation: |                                                                                    | 0/? [00:00<…"
      ]
     },
     "metadata": {},
     "output_type": "display_data"
    },
    {
     "data": {
      "application/vnd.jupyter.widget-view+json": {
       "model_id": "",
       "version_major": 2,
       "version_minor": 0
      },
      "text/plain": [
       "Validation: |                                                                                    | 0/? [00:00<…"
      ]
     },
     "metadata": {},
     "output_type": "display_data"
    },
    {
     "data": {
      "application/vnd.jupyter.widget-view+json": {
       "model_id": "",
       "version_major": 2,
       "version_minor": 0
      },
      "text/plain": [
       "Validation: |                                                                                    | 0/? [00:00<…"
      ]
     },
     "metadata": {},
     "output_type": "display_data"
    },
    {
     "data": {
      "application/vnd.jupyter.widget-view+json": {
       "model_id": "",
       "version_major": 2,
       "version_minor": 0
      },
      "text/plain": [
       "Validation: |                                                                                    | 0/? [00:00<…"
      ]
     },
     "metadata": {},
     "output_type": "display_data"
    },
    {
     "data": {
      "application/vnd.jupyter.widget-view+json": {
       "model_id": "",
       "version_major": 2,
       "version_minor": 0
      },
      "text/plain": [
       "Validation: |                                                                                    | 0/? [00:00<…"
      ]
     },
     "metadata": {},
     "output_type": "display_data"
    },
    {
     "data": {
      "application/vnd.jupyter.widget-view+json": {
       "model_id": "",
       "version_major": 2,
       "version_minor": 0
      },
      "text/plain": [
       "Validation: |                                                                                    | 0/? [00:00<…"
      ]
     },
     "metadata": {},
     "output_type": "display_data"
    },
    {
     "data": {
      "application/vnd.jupyter.widget-view+json": {
       "model_id": "",
       "version_major": 2,
       "version_minor": 0
      },
      "text/plain": [
       "Validation: |                                                                                    | 0/? [00:00<…"
      ]
     },
     "metadata": {},
     "output_type": "display_data"
    },
    {
     "data": {
      "application/vnd.jupyter.widget-view+json": {
       "model_id": "",
       "version_major": 2,
       "version_minor": 0
      },
      "text/plain": [
       "Validation: |                                                                                    | 0/? [00:00<…"
      ]
     },
     "metadata": {},
     "output_type": "display_data"
    },
    {
     "data": {
      "application/vnd.jupyter.widget-view+json": {
       "model_id": "",
       "version_major": 2,
       "version_minor": 0
      },
      "text/plain": [
       "Validation: |                                                                                    | 0/? [00:00<…"
      ]
     },
     "metadata": {},
     "output_type": "display_data"
    },
    {
     "data": {
      "application/vnd.jupyter.widget-view+json": {
       "model_id": "",
       "version_major": 2,
       "version_minor": 0
      },
      "text/plain": [
       "Validation: |                                                                                    | 0/? [00:00<…"
      ]
     },
     "metadata": {},
     "output_type": "display_data"
    },
    {
     "data": {
      "application/vnd.jupyter.widget-view+json": {
       "model_id": "",
       "version_major": 2,
       "version_minor": 0
      },
      "text/plain": [
       "Validation: |                                                                                    | 0/? [00:00<…"
      ]
     },
     "metadata": {},
     "output_type": "display_data"
    },
    {
     "data": {
      "application/vnd.jupyter.widget-view+json": {
       "model_id": "",
       "version_major": 2,
       "version_minor": 0
      },
      "text/plain": [
       "Validation: |                                                                                    | 0/? [00:00<…"
      ]
     },
     "metadata": {},
     "output_type": "display_data"
    },
    {
     "data": {
      "application/vnd.jupyter.widget-view+json": {
       "model_id": "",
       "version_major": 2,
       "version_minor": 0
      },
      "text/plain": [
       "Validation: |                                                                                    | 0/? [00:00<…"
      ]
     },
     "metadata": {},
     "output_type": "display_data"
    },
    {
     "data": {
      "application/vnd.jupyter.widget-view+json": {
       "model_id": "",
       "version_major": 2,
       "version_minor": 0
      },
      "text/plain": [
       "Validation: |                                                                                    | 0/? [00:00<…"
      ]
     },
     "metadata": {},
     "output_type": "display_data"
    },
    {
     "data": {
      "application/vnd.jupyter.widget-view+json": {
       "model_id": "",
       "version_major": 2,
       "version_minor": 0
      },
      "text/plain": [
       "Validation: |                                                                                    | 0/? [00:00<…"
      ]
     },
     "metadata": {},
     "output_type": "display_data"
    },
    {
     "data": {
      "application/vnd.jupyter.widget-view+json": {
       "model_id": "",
       "version_major": 2,
       "version_minor": 0
      },
      "text/plain": [
       "Validation: |                                                                                    | 0/? [00:00<…"
      ]
     },
     "metadata": {},
     "output_type": "display_data"
    },
    {
     "data": {
      "application/vnd.jupyter.widget-view+json": {
       "model_id": "",
       "version_major": 2,
       "version_minor": 0
      },
      "text/plain": [
       "Validation: |                                                                                    | 0/? [00:00<…"
      ]
     },
     "metadata": {},
     "output_type": "display_data"
    },
    {
     "data": {
      "application/vnd.jupyter.widget-view+json": {
       "model_id": "",
       "version_major": 2,
       "version_minor": 0
      },
      "text/plain": [
       "Validation: |                                                                                    | 0/? [00:00<…"
      ]
     },
     "metadata": {},
     "output_type": "display_data"
    },
    {
     "data": {
      "application/vnd.jupyter.widget-view+json": {
       "model_id": "",
       "version_major": 2,
       "version_minor": 0
      },
      "text/plain": [
       "Validation: |                                                                                    | 0/? [00:00<…"
      ]
     },
     "metadata": {},
     "output_type": "display_data"
    },
    {
     "data": {
      "application/vnd.jupyter.widget-view+json": {
       "model_id": "",
       "version_major": 2,
       "version_minor": 0
      },
      "text/plain": [
       "Validation: |                                                                                    | 0/? [00:00<…"
      ]
     },
     "metadata": {},
     "output_type": "display_data"
    },
    {
     "data": {
      "application/vnd.jupyter.widget-view+json": {
       "model_id": "",
       "version_major": 2,
       "version_minor": 0
      },
      "text/plain": [
       "Validation: |                                                                                    | 0/? [00:00<…"
      ]
     },
     "metadata": {},
     "output_type": "display_data"
    },
    {
     "data": {
      "application/vnd.jupyter.widget-view+json": {
       "model_id": "",
       "version_major": 2,
       "version_minor": 0
      },
      "text/plain": [
       "Validation: |                                                                                    | 0/? [00:00<…"
      ]
     },
     "metadata": {},
     "output_type": "display_data"
    },
    {
     "data": {
      "application/vnd.jupyter.widget-view+json": {
       "model_id": "",
       "version_major": 2,
       "version_minor": 0
      },
      "text/plain": [
       "Validation: |                                                                                    | 0/? [00:00<…"
      ]
     },
     "metadata": {},
     "output_type": "display_data"
    },
    {
     "data": {
      "application/vnd.jupyter.widget-view+json": {
       "model_id": "",
       "version_major": 2,
       "version_minor": 0
      },
      "text/plain": [
       "Validation: |                                                                                    | 0/? [00:00<…"
      ]
     },
     "metadata": {},
     "output_type": "display_data"
    },
    {
     "data": {
      "application/vnd.jupyter.widget-view+json": {
       "model_id": "",
       "version_major": 2,
       "version_minor": 0
      },
      "text/plain": [
       "Validation: |                                                                                    | 0/? [00:00<…"
      ]
     },
     "metadata": {},
     "output_type": "display_data"
    },
    {
     "data": {
      "application/vnd.jupyter.widget-view+json": {
       "model_id": "",
       "version_major": 2,
       "version_minor": 0
      },
      "text/plain": [
       "Validation: |                                                                                    | 0/? [00:00<…"
      ]
     },
     "metadata": {},
     "output_type": "display_data"
    },
    {
     "data": {
      "application/vnd.jupyter.widget-view+json": {
       "model_id": "",
       "version_major": 2,
       "version_minor": 0
      },
      "text/plain": [
       "Validation: |                                                                                    | 0/? [00:00<…"
      ]
     },
     "metadata": {},
     "output_type": "display_data"
    },
    {
     "data": {
      "application/vnd.jupyter.widget-view+json": {
       "model_id": "",
       "version_major": 2,
       "version_minor": 0
      },
      "text/plain": [
       "Validation: |                                                                                    | 0/? [00:00<…"
      ]
     },
     "metadata": {},
     "output_type": "display_data"
    },
    {
     "data": {
      "application/vnd.jupyter.widget-view+json": {
       "model_id": "",
       "version_major": 2,
       "version_minor": 0
      },
      "text/plain": [
       "Validation: |                                                                                    | 0/? [00:00<…"
      ]
     },
     "metadata": {},
     "output_type": "display_data"
    },
    {
     "data": {
      "application/vnd.jupyter.widget-view+json": {
       "model_id": "",
       "version_major": 2,
       "version_minor": 0
      },
      "text/plain": [
       "Validation: |                                                                                    | 0/? [00:00<…"
      ]
     },
     "metadata": {},
     "output_type": "display_data"
    },
    {
     "data": {
      "application/vnd.jupyter.widget-view+json": {
       "model_id": "",
       "version_major": 2,
       "version_minor": 0
      },
      "text/plain": [
       "Validation: |                                                                                    | 0/? [00:00<…"
      ]
     },
     "metadata": {},
     "output_type": "display_data"
    },
    {
     "data": {
      "application/vnd.jupyter.widget-view+json": {
       "model_id": "",
       "version_major": 2,
       "version_minor": 0
      },
      "text/plain": [
       "Validation: |                                                                                    | 0/? [00:00<…"
      ]
     },
     "metadata": {},
     "output_type": "display_data"
    },
    {
     "data": {
      "application/vnd.jupyter.widget-view+json": {
       "model_id": "",
       "version_major": 2,
       "version_minor": 0
      },
      "text/plain": [
       "Validation: |                                                                                    | 0/? [00:00<…"
      ]
     },
     "metadata": {},
     "output_type": "display_data"
    },
    {
     "data": {
      "application/vnd.jupyter.widget-view+json": {
       "model_id": "",
       "version_major": 2,
       "version_minor": 0
      },
      "text/plain": [
       "Validation: |                                                                                    | 0/? [00:00<…"
      ]
     },
     "metadata": {},
     "output_type": "display_data"
    },
    {
     "data": {
      "application/vnd.jupyter.widget-view+json": {
       "model_id": "",
       "version_major": 2,
       "version_minor": 0
      },
      "text/plain": [
       "Validation: |                                                                                    | 0/? [00:00<…"
      ]
     },
     "metadata": {},
     "output_type": "display_data"
    },
    {
     "data": {
      "application/vnd.jupyter.widget-view+json": {
       "model_id": "",
       "version_major": 2,
       "version_minor": 0
      },
      "text/plain": [
       "Validation: |                                                                                    | 0/? [00:00<…"
      ]
     },
     "metadata": {},
     "output_type": "display_data"
    },
    {
     "data": {
      "application/vnd.jupyter.widget-view+json": {
       "model_id": "",
       "version_major": 2,
       "version_minor": 0
      },
      "text/plain": [
       "Validation: |                                                                                    | 0/? [00:00<…"
      ]
     },
     "metadata": {},
     "output_type": "display_data"
    },
    {
     "data": {
      "application/vnd.jupyter.widget-view+json": {
       "model_id": "",
       "version_major": 2,
       "version_minor": 0
      },
      "text/plain": [
       "Validation: |                                                                                    | 0/? [00:00<…"
      ]
     },
     "metadata": {},
     "output_type": "display_data"
    },
    {
     "data": {
      "application/vnd.jupyter.widget-view+json": {
       "model_id": "",
       "version_major": 2,
       "version_minor": 0
      },
      "text/plain": [
       "Validation: |                                                                                    | 0/? [00:00<…"
      ]
     },
     "metadata": {},
     "output_type": "display_data"
    },
    {
     "data": {
      "application/vnd.jupyter.widget-view+json": {
       "model_id": "",
       "version_major": 2,
       "version_minor": 0
      },
      "text/plain": [
       "Validation: |                                                                                    | 0/? [00:00<…"
      ]
     },
     "metadata": {},
     "output_type": "display_data"
    },
    {
     "data": {
      "application/vnd.jupyter.widget-view+json": {
       "model_id": "",
       "version_major": 2,
       "version_minor": 0
      },
      "text/plain": [
       "Validation: |                                                                                    | 0/? [00:00<…"
      ]
     },
     "metadata": {},
     "output_type": "display_data"
    },
    {
     "data": {
      "application/vnd.jupyter.widget-view+json": {
       "model_id": "",
       "version_major": 2,
       "version_minor": 0
      },
      "text/plain": [
       "Validation: |                                                                                    | 0/? [00:00<…"
      ]
     },
     "metadata": {},
     "output_type": "display_data"
    },
    {
     "data": {
      "application/vnd.jupyter.widget-view+json": {
       "model_id": "",
       "version_major": 2,
       "version_minor": 0
      },
      "text/plain": [
       "Validation: |                                                                                    | 0/? [00:00<…"
      ]
     },
     "metadata": {},
     "output_type": "display_data"
    },
    {
     "data": {
      "application/vnd.jupyter.widget-view+json": {
       "model_id": "",
       "version_major": 2,
       "version_minor": 0
      },
      "text/plain": [
       "Validation: |                                                                                    | 0/? [00:00<…"
      ]
     },
     "metadata": {},
     "output_type": "display_data"
    },
    {
     "data": {
      "application/vnd.jupyter.widget-view+json": {
       "model_id": "",
       "version_major": 2,
       "version_minor": 0
      },
      "text/plain": [
       "Validation: |                                                                                    | 0/? [00:00<…"
      ]
     },
     "metadata": {},
     "output_type": "display_data"
    },
    {
     "data": {
      "application/vnd.jupyter.widget-view+json": {
       "model_id": "21890e99c4934a6c89eaaf15fe4ac835",
       "version_major": 2,
       "version_minor": 0
      },
      "text/plain": [
       "Predicting: |                                                                                    | 0/? [00:00<…"
      ]
     },
     "metadata": {},
     "output_type": "display_data"
    }
   ],
   "source": [
    "# %%capture\n",
    "horizon = 100\n",
    "\n",
    "# Try different hyperparmeters to improve accuracy.\n",
    "models = [MLP(h=horizon,                           # Forecast horizon\n",
    "              input_size=4 * horizon,              # Length of input sequence\n",
    "              loss=DistributionLoss('Bernoulli'),  # Binary classification loss\n",
    "              valid_loss=Accuracy(),               # Accuracy validation signal\n",
    "              max_steps=500,                       # Number of steps to train\n",
    "              scaler_type='standard',              # Type of scaler to normalize data\n",
    "              hidden_size=100,                      # Defines the size of the hidden state of the LSTM\n",
    "              #early_stop_patience_steps=2,         # Early stopping regularization patience\n",
    "              val_check_steps=10,                  # Frequency of validation signal (affects early stopping)\n",
    "              ),\n",
    "          NHITS(h=horizon,                          # Forecast horizon\n",
    "                input_size=4 * horizon,             # Length of input sequence\n",
    "                loss=DistributionLoss('Bernoulli'), # Binary classification loss\n",
    "                valid_loss=Accuracy(),              # Accuracy validation signal                \n",
    "                max_steps=500,                      # Number of steps to train\n",
    "                n_freq_downsample=[2, 1, 1],        # Downsampling factors for each stack output\n",
    "                #early_stop_patience_steps=2,        # Early stopping regularization patience\n",
    "                val_check_steps=10,                 # Frequency of validation signal (affects early stopping)\n",
    "                )             \n",
    "          ]\n",
    "nf = NeuralForecast(models=models, freq='B')\n",
    "Y_hat_df = nf.cross_validation(df=nixtla_df, n_windows=1)\n"
   ]
  },
  {
   "cell_type": "code",
   "execution_count": 95,
   "id": "0688e81c-209c-4c9e-bc37-5d4435e7c290",
   "metadata": {},
   "outputs": [
    {
     "data": {
      "text/html": [
       "<div>\n",
       "<style scoped>\n",
       "    .dataframe tbody tr th:only-of-type {\n",
       "        vertical-align: middle;\n",
       "    }\n",
       "\n",
       "    .dataframe tbody tr th {\n",
       "        vertical-align: top;\n",
       "    }\n",
       "\n",
       "    .dataframe thead th {\n",
       "        text-align: right;\n",
       "    }\n",
       "</style>\n",
       "<table border=\"1\" class=\"dataframe\">\n",
       "  <thead>\n",
       "    <tr style=\"text-align: right;\">\n",
       "      <th></th>\n",
       "      <th>unique_id</th>\n",
       "      <th>ds</th>\n",
       "      <th>cutoff</th>\n",
       "      <th>MLP</th>\n",
       "      <th>MLP-median</th>\n",
       "      <th>MLP-lo-90</th>\n",
       "      <th>MLP-lo-80</th>\n",
       "      <th>MLP-hi-80</th>\n",
       "      <th>MLP-hi-90</th>\n",
       "      <th>NHITS</th>\n",
       "      <th>NHITS-median</th>\n",
       "      <th>NHITS-lo-90</th>\n",
       "      <th>NHITS-lo-80</th>\n",
       "      <th>NHITS-hi-80</th>\n",
       "      <th>NHITS-hi-90</th>\n",
       "      <th>y</th>\n",
       "      <th>prices</th>\n",
       "    </tr>\n",
       "  </thead>\n",
       "  <tbody>\n",
       "    <tr>\n",
       "      <th>0</th>\n",
       "      <td>BOLSS</td>\n",
       "      <td>2023-05-31</td>\n",
       "      <td>2023-05-30</td>\n",
       "      <td>0.000</td>\n",
       "      <td>0.0</td>\n",
       "      <td>0.0</td>\n",
       "      <td>0.0</td>\n",
       "      <td>0.000000</td>\n",
       "      <td>0.0</td>\n",
       "      <td>0.000</td>\n",
       "      <td>0.0</td>\n",
       "      <td>0.0</td>\n",
       "      <td>0.0</td>\n",
       "      <td>0.000000</td>\n",
       "      <td>0.0</td>\n",
       "      <td>0</td>\n",
       "      <td>330.45</td>\n",
       "    </tr>\n",
       "    <tr>\n",
       "      <th>1</th>\n",
       "      <td>BOLSS</td>\n",
       "      <td>2023-06-01</td>\n",
       "      <td>2023-05-30</td>\n",
       "      <td>0.000</td>\n",
       "      <td>0.0</td>\n",
       "      <td>0.0</td>\n",
       "      <td>0.0</td>\n",
       "      <td>0.000000</td>\n",
       "      <td>0.0</td>\n",
       "      <td>0.000</td>\n",
       "      <td>0.0</td>\n",
       "      <td>0.0</td>\n",
       "      <td>0.0</td>\n",
       "      <td>0.000000</td>\n",
       "      <td>0.0</td>\n",
       "      <td>0</td>\n",
       "      <td>336.55</td>\n",
       "    </tr>\n",
       "    <tr>\n",
       "      <th>2</th>\n",
       "      <td>BOLSS</td>\n",
       "      <td>2023-06-02</td>\n",
       "      <td>2023-05-30</td>\n",
       "      <td>0.000</td>\n",
       "      <td>0.0</td>\n",
       "      <td>0.0</td>\n",
       "      <td>0.0</td>\n",
       "      <td>0.000000</td>\n",
       "      <td>0.0</td>\n",
       "      <td>0.000</td>\n",
       "      <td>0.0</td>\n",
       "      <td>0.0</td>\n",
       "      <td>0.0</td>\n",
       "      <td>0.000000</td>\n",
       "      <td>0.0</td>\n",
       "      <td>0</td>\n",
       "      <td>357.80</td>\n",
       "    </tr>\n",
       "    <tr>\n",
       "      <th>3</th>\n",
       "      <td>BOLSS</td>\n",
       "      <td>2023-06-05</td>\n",
       "      <td>2023-05-30</td>\n",
       "      <td>0.000</td>\n",
       "      <td>0.0</td>\n",
       "      <td>0.0</td>\n",
       "      <td>0.0</td>\n",
       "      <td>0.000000</td>\n",
       "      <td>0.0</td>\n",
       "      <td>0.000</td>\n",
       "      <td>0.0</td>\n",
       "      <td>0.0</td>\n",
       "      <td>0.0</td>\n",
       "      <td>0.000000</td>\n",
       "      <td>0.0</td>\n",
       "      <td>0</td>\n",
       "      <td>352.20</td>\n",
       "    </tr>\n",
       "    <tr>\n",
       "      <th>4</th>\n",
       "      <td>BOLSS</td>\n",
       "      <td>2023-06-06</td>\n",
       "      <td>2023-05-30</td>\n",
       "      <td>0.000</td>\n",
       "      <td>0.0</td>\n",
       "      <td>0.0</td>\n",
       "      <td>0.0</td>\n",
       "      <td>0.000000</td>\n",
       "      <td>0.0</td>\n",
       "      <td>0.000</td>\n",
       "      <td>0.0</td>\n",
       "      <td>0.0</td>\n",
       "      <td>0.0</td>\n",
       "      <td>0.000000</td>\n",
       "      <td>0.0</td>\n",
       "      <td>0</td>\n",
       "      <td>352.20</td>\n",
       "    </tr>\n",
       "    <tr>\n",
       "      <th>...</th>\n",
       "      <td>...</td>\n",
       "      <td>...</td>\n",
       "      <td>...</td>\n",
       "      <td>...</td>\n",
       "      <td>...</td>\n",
       "      <td>...</td>\n",
       "      <td>...</td>\n",
       "      <td>...</td>\n",
       "      <td>...</td>\n",
       "      <td>...</td>\n",
       "      <td>...</td>\n",
       "      <td>...</td>\n",
       "      <td>...</td>\n",
       "      <td>...</td>\n",
       "      <td>...</td>\n",
       "      <td>...</td>\n",
       "      <td>...</td>\n",
       "    </tr>\n",
       "    <tr>\n",
       "      <th>195</th>\n",
       "      <td>PSPNSE</td>\n",
       "      <td>2023-10-11</td>\n",
       "      <td>2023-05-30</td>\n",
       "      <td>0.100</td>\n",
       "      <td>0.0</td>\n",
       "      <td>0.0</td>\n",
       "      <td>0.0</td>\n",
       "      <td>0.099976</td>\n",
       "      <td>1.0</td>\n",
       "      <td>0.100</td>\n",
       "      <td>0.0</td>\n",
       "      <td>0.0</td>\n",
       "      <td>0.0</td>\n",
       "      <td>0.099976</td>\n",
       "      <td>1.0</td>\n",
       "      <td>0</td>\n",
       "      <td>111.60</td>\n",
       "    </tr>\n",
       "    <tr>\n",
       "      <th>196</th>\n",
       "      <td>PSPNSE</td>\n",
       "      <td>2023-10-12</td>\n",
       "      <td>2023-05-30</td>\n",
       "      <td>0.095</td>\n",
       "      <td>0.0</td>\n",
       "      <td>0.0</td>\n",
       "      <td>0.0</td>\n",
       "      <td>0.000000</td>\n",
       "      <td>1.0</td>\n",
       "      <td>0.094</td>\n",
       "      <td>0.0</td>\n",
       "      <td>0.0</td>\n",
       "      <td>0.0</td>\n",
       "      <td>0.000000</td>\n",
       "      <td>1.0</td>\n",
       "      <td>0</td>\n",
       "      <td>111.20</td>\n",
       "    </tr>\n",
       "    <tr>\n",
       "      <th>197</th>\n",
       "      <td>PSPNSE</td>\n",
       "      <td>2023-10-13</td>\n",
       "      <td>2023-05-30</td>\n",
       "      <td>0.107</td>\n",
       "      <td>0.0</td>\n",
       "      <td>0.0</td>\n",
       "      <td>0.0</td>\n",
       "      <td>1.000000</td>\n",
       "      <td>1.0</td>\n",
       "      <td>0.107</td>\n",
       "      <td>0.0</td>\n",
       "      <td>0.0</td>\n",
       "      <td>0.0</td>\n",
       "      <td>1.000000</td>\n",
       "      <td>1.0</td>\n",
       "      <td>0</td>\n",
       "      <td>110.30</td>\n",
       "    </tr>\n",
       "    <tr>\n",
       "      <th>198</th>\n",
       "      <td>PSPNSE</td>\n",
       "      <td>2023-10-16</td>\n",
       "      <td>2023-05-30</td>\n",
       "      <td>0.112</td>\n",
       "      <td>0.0</td>\n",
       "      <td>0.0</td>\n",
       "      <td>0.0</td>\n",
       "      <td>1.000000</td>\n",
       "      <td>1.0</td>\n",
       "      <td>0.105</td>\n",
       "      <td>0.0</td>\n",
       "      <td>0.0</td>\n",
       "      <td>0.0</td>\n",
       "      <td>1.000000</td>\n",
       "      <td>1.0</td>\n",
       "      <td>0</td>\n",
       "      <td>110.40</td>\n",
       "    </tr>\n",
       "    <tr>\n",
       "      <th>199</th>\n",
       "      <td>PSPNSE</td>\n",
       "      <td>2023-10-17</td>\n",
       "      <td>2023-05-30</td>\n",
       "      <td>0.115</td>\n",
       "      <td>0.0</td>\n",
       "      <td>0.0</td>\n",
       "      <td>0.0</td>\n",
       "      <td>1.000000</td>\n",
       "      <td>1.0</td>\n",
       "      <td>0.108</td>\n",
       "      <td>0.0</td>\n",
       "      <td>0.0</td>\n",
       "      <td>0.0</td>\n",
       "      <td>1.000000</td>\n",
       "      <td>1.0</td>\n",
       "      <td>0</td>\n",
       "      <td>110.80</td>\n",
       "    </tr>\n",
       "  </tbody>\n",
       "</table>\n",
       "<p>200 rows × 17 columns</p>\n",
       "</div>"
      ],
      "text/plain": [
       "    unique_id         ds     cutoff    MLP  MLP-median  MLP-lo-90  MLP-lo-80  \\\n",
       "0       BOLSS 2023-05-31 2023-05-30  0.000         0.0        0.0        0.0   \n",
       "1       BOLSS 2023-06-01 2023-05-30  0.000         0.0        0.0        0.0   \n",
       "2       BOLSS 2023-06-02 2023-05-30  0.000         0.0        0.0        0.0   \n",
       "3       BOLSS 2023-06-05 2023-05-30  0.000         0.0        0.0        0.0   \n",
       "4       BOLSS 2023-06-06 2023-05-30  0.000         0.0        0.0        0.0   \n",
       "..        ...        ...        ...    ...         ...        ...        ...   \n",
       "195    PSPNSE 2023-10-11 2023-05-30  0.100         0.0        0.0        0.0   \n",
       "196    PSPNSE 2023-10-12 2023-05-30  0.095         0.0        0.0        0.0   \n",
       "197    PSPNSE 2023-10-13 2023-05-30  0.107         0.0        0.0        0.0   \n",
       "198    PSPNSE 2023-10-16 2023-05-30  0.112         0.0        0.0        0.0   \n",
       "199    PSPNSE 2023-10-17 2023-05-30  0.115         0.0        0.0        0.0   \n",
       "\n",
       "     MLP-hi-80  MLP-hi-90  NHITS  NHITS-median  NHITS-lo-90  NHITS-lo-80  \\\n",
       "0     0.000000        0.0  0.000           0.0          0.0          0.0   \n",
       "1     0.000000        0.0  0.000           0.0          0.0          0.0   \n",
       "2     0.000000        0.0  0.000           0.0          0.0          0.0   \n",
       "3     0.000000        0.0  0.000           0.0          0.0          0.0   \n",
       "4     0.000000        0.0  0.000           0.0          0.0          0.0   \n",
       "..         ...        ...    ...           ...          ...          ...   \n",
       "195   0.099976        1.0  0.100           0.0          0.0          0.0   \n",
       "196   0.000000        1.0  0.094           0.0          0.0          0.0   \n",
       "197   1.000000        1.0  0.107           0.0          0.0          0.0   \n",
       "198   1.000000        1.0  0.105           0.0          0.0          0.0   \n",
       "199   1.000000        1.0  0.108           0.0          0.0          0.0   \n",
       "\n",
       "     NHITS-hi-80  NHITS-hi-90  y  prices  \n",
       "0       0.000000          0.0  0  330.45  \n",
       "1       0.000000          0.0  0  336.55  \n",
       "2       0.000000          0.0  0  357.80  \n",
       "3       0.000000          0.0  0  352.20  \n",
       "4       0.000000          0.0  0  352.20  \n",
       "..           ...          ... ..     ...  \n",
       "195     0.099976          1.0  0  111.60  \n",
       "196     0.000000          1.0  0  111.20  \n",
       "197     1.000000          1.0  0  110.30  \n",
       "198     1.000000          1.0  0  110.40  \n",
       "199     1.000000          1.0  0  110.80  \n",
       "\n",
       "[200 rows x 17 columns]"
      ]
     },
     "execution_count": 95,
     "metadata": {},
     "output_type": "execute_result"
    }
   ],
   "source": [
    "# By default NeuralForecast produces forecast intervals\n",
    "# In this case the lo-x and high-x levels represent the \n",
    "# low and high bounds of the prediction accumulating x% probability\n",
    "Y_hat_df = Y_hat_df.reset_index(drop=True)\n",
    "Y_hat_df"
   ]
  },
  {
   "cell_type": "code",
   "execution_count": 99,
   "id": "96c77761-2625-48c7-b686-32132ee044f4",
   "metadata": {},
   "outputs": [
    {
     "data": {
      "text/html": [
       "<div>\n",
       "<style scoped>\n",
       "    .dataframe tbody tr th:only-of-type {\n",
       "        vertical-align: middle;\n",
       "    }\n",
       "\n",
       "    .dataframe tbody tr th {\n",
       "        vertical-align: top;\n",
       "    }\n",
       "\n",
       "    .dataframe thead th {\n",
       "        text-align: right;\n",
       "    }\n",
       "</style>\n",
       "<table border=\"1\" class=\"dataframe\">\n",
       "  <thead>\n",
       "    <tr style=\"text-align: right;\">\n",
       "      <th></th>\n",
       "      <th>unique_id</th>\n",
       "      <th>ds</th>\n",
       "      <th>cutoff</th>\n",
       "      <th>MLP</th>\n",
       "      <th>MLP-median</th>\n",
       "      <th>MLP-lo-90</th>\n",
       "      <th>MLP-lo-80</th>\n",
       "      <th>MLP-hi-80</th>\n",
       "      <th>MLP-hi-90</th>\n",
       "      <th>NHITS</th>\n",
       "      <th>NHITS-median</th>\n",
       "      <th>NHITS-lo-90</th>\n",
       "      <th>NHITS-lo-80</th>\n",
       "      <th>NHITS-hi-80</th>\n",
       "      <th>NHITS-hi-90</th>\n",
       "      <th>y</th>\n",
       "      <th>prices</th>\n",
       "    </tr>\n",
       "  </thead>\n",
       "  <tbody>\n",
       "    <tr>\n",
       "      <th>0</th>\n",
       "      <td>BOLSS</td>\n",
       "      <td>2023-05-31</td>\n",
       "      <td>2023-05-30</td>\n",
       "      <td>0</td>\n",
       "      <td>0.0</td>\n",
       "      <td>0.0</td>\n",
       "      <td>0.0</td>\n",
       "      <td>0.000000</td>\n",
       "      <td>0.0</td>\n",
       "      <td>0</td>\n",
       "      <td>0.0</td>\n",
       "      <td>0.0</td>\n",
       "      <td>0.0</td>\n",
       "      <td>0.000000</td>\n",
       "      <td>0.0</td>\n",
       "      <td>0</td>\n",
       "      <td>330.45</td>\n",
       "    </tr>\n",
       "    <tr>\n",
       "      <th>1</th>\n",
       "      <td>BOLSS</td>\n",
       "      <td>2023-06-01</td>\n",
       "      <td>2023-05-30</td>\n",
       "      <td>0</td>\n",
       "      <td>0.0</td>\n",
       "      <td>0.0</td>\n",
       "      <td>0.0</td>\n",
       "      <td>0.000000</td>\n",
       "      <td>0.0</td>\n",
       "      <td>0</td>\n",
       "      <td>0.0</td>\n",
       "      <td>0.0</td>\n",
       "      <td>0.0</td>\n",
       "      <td>0.000000</td>\n",
       "      <td>0.0</td>\n",
       "      <td>0</td>\n",
       "      <td>336.55</td>\n",
       "    </tr>\n",
       "    <tr>\n",
       "      <th>2</th>\n",
       "      <td>BOLSS</td>\n",
       "      <td>2023-06-02</td>\n",
       "      <td>2023-05-30</td>\n",
       "      <td>0</td>\n",
       "      <td>0.0</td>\n",
       "      <td>0.0</td>\n",
       "      <td>0.0</td>\n",
       "      <td>0.000000</td>\n",
       "      <td>0.0</td>\n",
       "      <td>0</td>\n",
       "      <td>0.0</td>\n",
       "      <td>0.0</td>\n",
       "      <td>0.0</td>\n",
       "      <td>0.000000</td>\n",
       "      <td>0.0</td>\n",
       "      <td>0</td>\n",
       "      <td>357.80</td>\n",
       "    </tr>\n",
       "    <tr>\n",
       "      <th>3</th>\n",
       "      <td>BOLSS</td>\n",
       "      <td>2023-06-05</td>\n",
       "      <td>2023-05-30</td>\n",
       "      <td>0</td>\n",
       "      <td>0.0</td>\n",
       "      <td>0.0</td>\n",
       "      <td>0.0</td>\n",
       "      <td>0.000000</td>\n",
       "      <td>0.0</td>\n",
       "      <td>0</td>\n",
       "      <td>0.0</td>\n",
       "      <td>0.0</td>\n",
       "      <td>0.0</td>\n",
       "      <td>0.000000</td>\n",
       "      <td>0.0</td>\n",
       "      <td>0</td>\n",
       "      <td>352.20</td>\n",
       "    </tr>\n",
       "    <tr>\n",
       "      <th>4</th>\n",
       "      <td>BOLSS</td>\n",
       "      <td>2023-06-06</td>\n",
       "      <td>2023-05-30</td>\n",
       "      <td>0</td>\n",
       "      <td>0.0</td>\n",
       "      <td>0.0</td>\n",
       "      <td>0.0</td>\n",
       "      <td>0.000000</td>\n",
       "      <td>0.0</td>\n",
       "      <td>0</td>\n",
       "      <td>0.0</td>\n",
       "      <td>0.0</td>\n",
       "      <td>0.0</td>\n",
       "      <td>0.000000</td>\n",
       "      <td>0.0</td>\n",
       "      <td>0</td>\n",
       "      <td>352.20</td>\n",
       "    </tr>\n",
       "    <tr>\n",
       "      <th>...</th>\n",
       "      <td>...</td>\n",
       "      <td>...</td>\n",
       "      <td>...</td>\n",
       "      <td>...</td>\n",
       "      <td>...</td>\n",
       "      <td>...</td>\n",
       "      <td>...</td>\n",
       "      <td>...</td>\n",
       "      <td>...</td>\n",
       "      <td>...</td>\n",
       "      <td>...</td>\n",
       "      <td>...</td>\n",
       "      <td>...</td>\n",
       "      <td>...</td>\n",
       "      <td>...</td>\n",
       "      <td>...</td>\n",
       "      <td>...</td>\n",
       "    </tr>\n",
       "    <tr>\n",
       "      <th>195</th>\n",
       "      <td>PSPNSE</td>\n",
       "      <td>2023-10-11</td>\n",
       "      <td>2023-05-30</td>\n",
       "      <td>0</td>\n",
       "      <td>0.0</td>\n",
       "      <td>0.0</td>\n",
       "      <td>0.0</td>\n",
       "      <td>0.099976</td>\n",
       "      <td>1.0</td>\n",
       "      <td>0</td>\n",
       "      <td>0.0</td>\n",
       "      <td>0.0</td>\n",
       "      <td>0.0</td>\n",
       "      <td>0.099976</td>\n",
       "      <td>1.0</td>\n",
       "      <td>0</td>\n",
       "      <td>111.60</td>\n",
       "    </tr>\n",
       "    <tr>\n",
       "      <th>196</th>\n",
       "      <td>PSPNSE</td>\n",
       "      <td>2023-10-12</td>\n",
       "      <td>2023-05-30</td>\n",
       "      <td>0</td>\n",
       "      <td>0.0</td>\n",
       "      <td>0.0</td>\n",
       "      <td>0.0</td>\n",
       "      <td>0.000000</td>\n",
       "      <td>1.0</td>\n",
       "      <td>0</td>\n",
       "      <td>0.0</td>\n",
       "      <td>0.0</td>\n",
       "      <td>0.0</td>\n",
       "      <td>0.000000</td>\n",
       "      <td>1.0</td>\n",
       "      <td>0</td>\n",
       "      <td>111.20</td>\n",
       "    </tr>\n",
       "    <tr>\n",
       "      <th>197</th>\n",
       "      <td>PSPNSE</td>\n",
       "      <td>2023-10-13</td>\n",
       "      <td>2023-05-30</td>\n",
       "      <td>0</td>\n",
       "      <td>0.0</td>\n",
       "      <td>0.0</td>\n",
       "      <td>0.0</td>\n",
       "      <td>1.000000</td>\n",
       "      <td>1.0</td>\n",
       "      <td>0</td>\n",
       "      <td>0.0</td>\n",
       "      <td>0.0</td>\n",
       "      <td>0.0</td>\n",
       "      <td>1.000000</td>\n",
       "      <td>1.0</td>\n",
       "      <td>0</td>\n",
       "      <td>110.30</td>\n",
       "    </tr>\n",
       "    <tr>\n",
       "      <th>198</th>\n",
       "      <td>PSPNSE</td>\n",
       "      <td>2023-10-16</td>\n",
       "      <td>2023-05-30</td>\n",
       "      <td>0</td>\n",
       "      <td>0.0</td>\n",
       "      <td>0.0</td>\n",
       "      <td>0.0</td>\n",
       "      <td>1.000000</td>\n",
       "      <td>1.0</td>\n",
       "      <td>0</td>\n",
       "      <td>0.0</td>\n",
       "      <td>0.0</td>\n",
       "      <td>0.0</td>\n",
       "      <td>1.000000</td>\n",
       "      <td>1.0</td>\n",
       "      <td>0</td>\n",
       "      <td>110.40</td>\n",
       "    </tr>\n",
       "    <tr>\n",
       "      <th>199</th>\n",
       "      <td>PSPNSE</td>\n",
       "      <td>2023-10-17</td>\n",
       "      <td>2023-05-30</td>\n",
       "      <td>0</td>\n",
       "      <td>0.0</td>\n",
       "      <td>0.0</td>\n",
       "      <td>0.0</td>\n",
       "      <td>1.000000</td>\n",
       "      <td>1.0</td>\n",
       "      <td>0</td>\n",
       "      <td>0.0</td>\n",
       "      <td>0.0</td>\n",
       "      <td>0.0</td>\n",
       "      <td>1.000000</td>\n",
       "      <td>1.0</td>\n",
       "      <td>0</td>\n",
       "      <td>110.80</td>\n",
       "    </tr>\n",
       "  </tbody>\n",
       "</table>\n",
       "<p>200 rows × 17 columns</p>\n",
       "</div>"
      ],
      "text/plain": [
       "    unique_id         ds     cutoff  MLP  MLP-median  MLP-lo-90  MLP-lo-80  \\\n",
       "0       BOLSS 2023-05-31 2023-05-30    0         0.0        0.0        0.0   \n",
       "1       BOLSS 2023-06-01 2023-05-30    0         0.0        0.0        0.0   \n",
       "2       BOLSS 2023-06-02 2023-05-30    0         0.0        0.0        0.0   \n",
       "3       BOLSS 2023-06-05 2023-05-30    0         0.0        0.0        0.0   \n",
       "4       BOLSS 2023-06-06 2023-05-30    0         0.0        0.0        0.0   \n",
       "..        ...        ...        ...  ...         ...        ...        ...   \n",
       "195    PSPNSE 2023-10-11 2023-05-30    0         0.0        0.0        0.0   \n",
       "196    PSPNSE 2023-10-12 2023-05-30    0         0.0        0.0        0.0   \n",
       "197    PSPNSE 2023-10-13 2023-05-30    0         0.0        0.0        0.0   \n",
       "198    PSPNSE 2023-10-16 2023-05-30    0         0.0        0.0        0.0   \n",
       "199    PSPNSE 2023-10-17 2023-05-30    0         0.0        0.0        0.0   \n",
       "\n",
       "     MLP-hi-80  MLP-hi-90  NHITS  NHITS-median  NHITS-lo-90  NHITS-lo-80  \\\n",
       "0     0.000000        0.0      0           0.0          0.0          0.0   \n",
       "1     0.000000        0.0      0           0.0          0.0          0.0   \n",
       "2     0.000000        0.0      0           0.0          0.0          0.0   \n",
       "3     0.000000        0.0      0           0.0          0.0          0.0   \n",
       "4     0.000000        0.0      0           0.0          0.0          0.0   \n",
       "..         ...        ...    ...           ...          ...          ...   \n",
       "195   0.099976        1.0      0           0.0          0.0          0.0   \n",
       "196   0.000000        1.0      0           0.0          0.0          0.0   \n",
       "197   1.000000        1.0      0           0.0          0.0          0.0   \n",
       "198   1.000000        1.0      0           0.0          0.0          0.0   \n",
       "199   1.000000        1.0      0           0.0          0.0          0.0   \n",
       "\n",
       "     NHITS-hi-80  NHITS-hi-90  y  prices  \n",
       "0       0.000000          0.0  0  330.45  \n",
       "1       0.000000          0.0  0  336.55  \n",
       "2       0.000000          0.0  0  357.80  \n",
       "3       0.000000          0.0  0  352.20  \n",
       "4       0.000000          0.0  0  352.20  \n",
       "..           ...          ... ..     ...  \n",
       "195     0.099976          1.0  0  111.60  \n",
       "196     0.000000          1.0  0  111.20  \n",
       "197     1.000000          1.0  0  110.30  \n",
       "198     1.000000          1.0  0  110.40  \n",
       "199     1.000000          1.0  0  110.80  \n",
       "\n",
       "[200 rows x 17 columns]"
      ]
     },
     "execution_count": 99,
     "metadata": {},
     "output_type": "execute_result"
    }
   ],
   "source": [
    "# Define classification threshold for final predictions\n",
    "# If (prob > threshold) -> 1\n",
    "Y_hat_df['NHITS'] = (Y_hat_df['NHITS'] > 0.5) * 1\n",
    "Y_hat_df['MLP'] = (Y_hat_df['MLP'] > 0.5) * 1\n",
    "Y_hat_df"
   ]
  },
  {
   "cell_type": "code",
   "execution_count": 97,
   "id": "3d0d8858-69f2-4cd1-9657-e17d58af8399",
   "metadata": {},
   "outputs": [
    {
     "data": {
      "image/png": "[encoded data removed]",
      "text/plain": [
       "<Figure size 2000x700 with 1 Axes>"
      ]
     },
     "metadata": {},
     "output_type": "display_data"
    }
   ],
   "source": [
    "plot_df = Y_hat_df[Y_hat_df.unique_id=='BOLSS']\n",
    "\n",
    "fig, ax = plt.subplots(1, 1, figsize = (20, 7))\n",
    "plt.plot(plot_df.ds, plot_df.y, label='target signal')\n",
    "plt.plot(plot_df.ds, plot_df['MLP'] * 1.1, label='MLP prediction')\n",
    "plt.plot(plot_df.ds, plot_df['NHITS'] * .9, label='NHITS prediction')\n",
    "ax.set_title('Binary Sequence Forecast', fontsize=22)\n",
    "ax.set_ylabel('Pixel Threshold and Prediction', fontsize=20)\n",
    "ax.set_xlabel('Timestamp [t]', fontsize=20)\n",
    "ax.legend(prop={'size': 15})\n",
    "ax.grid()"
   ]
  },
  {
   "cell_type": "code",
   "execution_count": 98,
   "id": "8fae57e0-6da5-4770-943b-76761d9a7545",
   "metadata": {},
   "outputs": [
    {
     "name": "stdout",
     "output_type": "stream",
     "text": [
      "MLP Accuracy: 100.0%\n",
      "NHITS Accuracy: 100.0%\n"
     ]
    }
   ],
   "source": [
    "def accuracy(y, y_hat):\n",
    "    return np.mean(y==y_hat)\n",
    "\n",
    "mlp_acc = accuracy(y=Y_hat_df['y'], y_hat=Y_hat_df['MLP'])\n",
    "nhits_acc = accuracy(y=Y_hat_df['y'], y_hat=Y_hat_df['NHITS'])\n",
    "\n",
    "print(f'MLP Accuracy: {mlp_acc:.1%}')\n",
    "print(f'NHITS Accuracy: {nhits_acc:.1%}')"
   ]
  },
  {
   "cell_type": "markdown",
   "id": "371c73da-2adb-45c7-be7c-cc84c7800ebc",
   "metadata": {},
   "source": [
    "## De lucru:\n",
    "- Folosim numai companiile pentru care avem 6 bubbles (mediana nr de bubbles).\n",
    "- Alegem intervalele de timp\n",
    "      - rolling windows de mai multe dimensiuni: 100, 150, 200, 250\n",
    "      - horizon sa fie de dimensiune egala cu mediana nr de zile din bule - adica 24 de zile (mai putem experimenta si altele)\n",
    "      - lasam deoparte (in test) ultimul an, adica 2023. Pentru 2023 trebuie sa vedem cat de multe bubbles avem...\n",
    "- Folosim Time Series scaling (toata seria si separat cu temporal window normalization)\n",
    "- Calculam features:\n",
    "      - aplicam tsfresh cu rolling (https://tsfresh.readthedocs.io/en/latest/text/forecasting.html)\n",
    "- De vazut ce alte modele pot fi folosite"
   ]
  },
  {
   "cell_type": "code",
   "execution_count": 112,
   "id": "6079fb1d-3051-4867-b575-90a74a026652",
   "metadata": {},
   "outputs": [
    {
     "data": {
      "text/html": [
       "<div>\n",
       "<style scoped>\n",
       "    .dataframe tbody tr th:only-of-type {\n",
       "        vertical-align: middle;\n",
       "    }\n",
       "\n",
       "    .dataframe tbody tr th {\n",
       "        vertical-align: top;\n",
       "    }\n",
       "\n",
       "    .dataframe thead th {\n",
       "        text-align: right;\n",
       "    }\n",
       "</style>\n",
       "<table border=\"1\" class=\"dataframe\">\n",
       "  <thead>\n",
       "    <tr style=\"text-align: right;\">\n",
       "      <th></th>\n",
       "      <th>Firm</th>\n",
       "      <th>Start</th>\n",
       "      <th>Peak</th>\n",
       "      <th>End</th>\n",
       "      <th>Duration</th>\n",
       "      <th>Boom Phase</th>\n",
       "      <th>Burst Phase</th>\n",
       "    </tr>\n",
       "  </thead>\n",
       "  <tbody>\n",
       "    <tr>\n",
       "      <th>10</th>\n",
       "      <td>SOIFP</td>\n",
       "      <td>401</td>\n",
       "      <td>893</td>\n",
       "      <td>934</td>\n",
       "      <td>534</td>\n",
       "      <td>492</td>\n",
       "      <td>42</td>\n",
       "    </tr>\n",
       "    <tr>\n",
       "      <th>11</th>\n",
       "      <td>SOIFP</td>\n",
       "      <td>1115</td>\n",
       "      <td>1122</td>\n",
       "      <td>1131</td>\n",
       "      <td>17</td>\n",
       "      <td>7</td>\n",
       "      <td>10</td>\n",
       "    </tr>\n",
       "    <tr>\n",
       "      <th>12</th>\n",
       "      <td>SOIFP</td>\n",
       "      <td>1159</td>\n",
       "      <td>1171</td>\n",
       "      <td>1176</td>\n",
       "      <td>18</td>\n",
       "      <td>12</td>\n",
       "      <td>6</td>\n",
       "    </tr>\n",
       "    <tr>\n",
       "      <th>13</th>\n",
       "      <td>SOIFP</td>\n",
       "      <td>1261</td>\n",
       "      <td>1278</td>\n",
       "      <td>1279</td>\n",
       "      <td>19</td>\n",
       "      <td>17</td>\n",
       "      <td>2</td>\n",
       "    </tr>\n",
       "    <tr>\n",
       "      <th>14</th>\n",
       "      <td>SOIFP</td>\n",
       "      <td>1499</td>\n",
       "      <td>1507</td>\n",
       "      <td>1513</td>\n",
       "      <td>15</td>\n",
       "      <td>8</td>\n",
       "      <td>7</td>\n",
       "    </tr>\n",
       "    <tr>\n",
       "      <th>...</th>\n",
       "      <td>...</td>\n",
       "      <td>...</td>\n",
       "      <td>...</td>\n",
       "      <td>...</td>\n",
       "      <td>...</td>\n",
       "      <td>...</td>\n",
       "      <td>...</td>\n",
       "    </tr>\n",
       "    <tr>\n",
       "      <th>3308</th>\n",
       "      <td>HOLMBSS</td>\n",
       "      <td>730</td>\n",
       "      <td>796</td>\n",
       "      <td>801</td>\n",
       "      <td>72</td>\n",
       "      <td>66</td>\n",
       "      <td>6</td>\n",
       "    </tr>\n",
       "    <tr>\n",
       "      <th>3309</th>\n",
       "      <td>HOLMBSS</td>\n",
       "      <td>828</td>\n",
       "      <td>862</td>\n",
       "      <td>863</td>\n",
       "      <td>36</td>\n",
       "      <td>34</td>\n",
       "      <td>2</td>\n",
       "    </tr>\n",
       "    <tr>\n",
       "      <th>3310</th>\n",
       "      <td>HOLMBSS</td>\n",
       "      <td>1219</td>\n",
       "      <td>1220</td>\n",
       "      <td>1226</td>\n",
       "      <td>8</td>\n",
       "      <td>1</td>\n",
       "      <td>7</td>\n",
       "    </tr>\n",
       "    <tr>\n",
       "      <th>3311</th>\n",
       "      <td>HOLMBSS</td>\n",
       "      <td>1244</td>\n",
       "      <td>1339</td>\n",
       "      <td>1344</td>\n",
       "      <td>101</td>\n",
       "      <td>95</td>\n",
       "      <td>6</td>\n",
       "    </tr>\n",
       "    <tr>\n",
       "      <th>3312</th>\n",
       "      <td>HOLMBSS</td>\n",
       "      <td>1481</td>\n",
       "      <td>1910</td>\n",
       "      <td>1941</td>\n",
       "      <td>461</td>\n",
       "      <td>429</td>\n",
       "      <td>32</td>\n",
       "    </tr>\n",
       "  </tbody>\n",
       "</table>\n",
       "<p>558 rows × 7 columns</p>\n",
       "</div>"
      ],
      "text/plain": [
       "         Firm  Start  Peak   End  Duration  Boom Phase  Burst Phase\n",
       "10      SOIFP    401   893   934       534         492           42\n",
       "11      SOIFP   1115  1122  1131        17           7           10\n",
       "12      SOIFP   1159  1171  1176        18          12            6\n",
       "13      SOIFP   1261  1278  1279        19          17            2\n",
       "14      SOIFP   1499  1507  1513        15           8            7\n",
       "...       ...    ...   ...   ...       ...         ...          ...\n",
       "3308  HOLMBSS    730   796   801        72          66            6\n",
       "3309  HOLMBSS    828   862   863        36          34            2\n",
       "3310  HOLMBSS   1219  1220  1226         8           1            7\n",
       "3311  HOLMBSS   1244  1339  1344       101          95            6\n",
       "3312  HOLMBSS   1481  1910  1941       461         429           32\n",
       "\n",
       "[558 rows x 7 columns]"
      ]
     },
     "execution_count": 112,
     "metadata": {},
     "output_type": "execute_result"
    }
   ],
   "source": [
    "bubble_res_comp_6_bubbles = pd.read_pickle('bubble_res_comp_6_bubbles.pkl')\n",
    "bubble_res_comp_6_bubbles"
   ]
  },
  {
   "cell_type": "code",
   "execution_count": 114,
   "id": "a8d455f8-f80c-4440-978d-42ee098e22a4",
   "metadata": {},
   "outputs": [],
   "source": [
    "ind_2023 = prices[prices['Date']>'2023-01-01'].index\n",
    "ind_2022 = prices[prices['Date']>'2022-01-01'].index\n",
    "ind_2021 = prices[prices['Date']>'2021-01-01'].index\n",
    "ind_2020 = prices[prices['Date']>'2020-01-01'].index\n",
    "ind_2019 = prices[prices['Date']>'2019-01-01'].index\n",
    "ind_2018 = prices[prices['Date']>'2018-01-01'].index\n",
    "ind_2017 = prices[prices['Date']>'2017-01-01'].index\n",
    "ind_2016 = prices[prices['Date']>'2016-01-01'].index"
   ]
  },
  {
   "cell_type": "code",
   "execution_count": 115,
   "id": "08225156-7fb3-4728-b2d1-7b0a055819aa",
   "metadata": {},
   "outputs": [
    {
     "name": "stdout",
     "output_type": "stream",
     "text": [
      "2023:31\n"
     ]
    }
   ],
   "source": [
    "bubble_res_comp_6_bubbles_2023 = bubble_res_comp_6_bubbles[bubble_res_comp_6_bubbles['Start']>=ind_2023[0]]\n",
    "print('2023:'+str(len(bubble_res_comp_6_bubbles_2023['Firm'].value_counts())))"
   ]
  },
  {
   "cell_type": "code",
   "execution_count": 118,
   "id": "3c9bc6f5-8851-48d9-a050-3ba8256ff750",
   "metadata": {},
   "outputs": [
    {
     "data": {
      "text/plain": [
       "array(['Date', 'SOIFP', 'PKNPW', 'PHIANA', 'REPSQ', 'TEFSQ', 'CSFP',\n",
       "       'LXILN', 'RFFP', 'SAFFP', 'MTXGY', 'AEDBB', 'INDTSS', 'ADPFP',\n",
       "       'KINDSDBSS', 'FORTUMFH', 'IPNFP', 'TENIM', 'BIMFP', 'CABKSQ',\n",
       "       'AKRBPNO', 'ESSITYBSS', 'VALMTFH', 'AXFOSS', 'EVKGY', 'ERFFP',\n",
       "       'NEXIIM', 'GAWLN', 'RILBADC', 'SPLPW', 'COLSQ', 'STLAMIM',\n",
       "       'BATSLN', 'ALVGY', 'DBKGY', 'BASGY', 'HEN3GY', 'VOW3GY', 'SAPGY',\n",
       "       'TKAGY', 'DB1GY', 'CONGY', 'INCHLN', 'SALMNO', 'MKSLN', 'PSNLN',\n",
       "       'CDIFP', 'VIVFP', 'PUBFP', 'TOPDC', 'RNOFP', 'FRFP', 'SWECBSS',\n",
       "       'EKTABSS', 'RHMGY', 'BRBYLN', 'CPGLN', 'ITVLN', 'CRDALN', 'GALESE',\n",
       "       'BWYLN', 'INDUCSS', 'HSBALN', 'SGROLN', 'SBRYLN', 'PNNLN', 'VNAGY',\n",
       "       'FDJFP', 'WEIRLN', 'BUCNSE', 'TIGOSS', 'ANDRAV', 'CNHIIM',\n",
       "       'SRT3GY', 'CCHLN', 'CHRDC', 'EQNRNO', 'AENASQ', 'OMVAV', 'JMATLN',\n",
       "       'CNALN', 'SKFBSS', 'TRELBSS', 'DANSKEDC', 'SCABSS', 'ROCKBDC',\n",
       "       'CLNSE', 'HOLNSE', 'LONNSE', 'UPMFH', 'LRFP', 'SLHNSE', 'COFBBB',\n",
       "       'HOLMBSS'], dtype=object)"
      ]
     },
     "execution_count": 118,
     "metadata": {},
     "output_type": "execute_result"
    }
   ],
   "source": [
    "comps_6bubs = bubble_res_comp_6_bubbles['Firm'].unique()\n",
    "comps_6bubs = np.insert(comps_6bubs, 0, 'Date')\n",
    "comps_6bubs"
   ]
  },
  {
   "cell_type": "code",
   "execution_count": 125,
   "id": "36b99027-746c-4a00-8301-73d884385717",
   "metadata": {},
   "outputs": [
    {
     "data": {
      "text/html": [
       "<div>\n",
       "<style scoped>\n",
       "    .dataframe tbody tr th:only-of-type {\n",
       "        vertical-align: middle;\n",
       "    }\n",
       "\n",
       "    .dataframe tbody tr th {\n",
       "        vertical-align: top;\n",
       "    }\n",
       "\n",
       "    .dataframe thead th {\n",
       "        text-align: right;\n",
       "    }\n",
       "</style>\n",
       "<table border=\"1\" class=\"dataframe\">\n",
       "  <thead>\n",
       "    <tr style=\"text-align: right;\">\n",
       "      <th></th>\n",
       "      <th>Date</th>\n",
       "      <th>SOIFP</th>\n",
       "      <th>PKNPW</th>\n",
       "      <th>PHIANA</th>\n",
       "      <th>REPSQ</th>\n",
       "      <th>TEFSQ</th>\n",
       "      <th>CSFP</th>\n",
       "      <th>LXILN</th>\n",
       "      <th>RFFP</th>\n",
       "      <th>SAFFP</th>\n",
       "      <th>...</th>\n",
       "      <th>SCABSS</th>\n",
       "      <th>ROCKBDC</th>\n",
       "      <th>CLNSE</th>\n",
       "      <th>HOLNSE</th>\n",
       "      <th>LONNSE</th>\n",
       "      <th>UPMFH</th>\n",
       "      <th>LRFP</th>\n",
       "      <th>SLHNSE</th>\n",
       "      <th>COFBBB</th>\n",
       "      <th>HOLMBSS</th>\n",
       "    </tr>\n",
       "  </thead>\n",
       "  <tbody>\n",
       "    <tr>\n",
       "      <th>2083</th>\n",
       "      <td>2022-12-29</td>\n",
       "      <td>0</td>\n",
       "      <td>0</td>\n",
       "      <td>1</td>\n",
       "      <td>0</td>\n",
       "      <td>0</td>\n",
       "      <td>0</td>\n",
       "      <td>0</td>\n",
       "      <td>0</td>\n",
       "      <td>0</td>\n",
       "      <td>...</td>\n",
       "      <td>0</td>\n",
       "      <td>0</td>\n",
       "      <td>0</td>\n",
       "      <td>0</td>\n",
       "      <td>0</td>\n",
       "      <td>0</td>\n",
       "      <td>0</td>\n",
       "      <td>0</td>\n",
       "      <td>0</td>\n",
       "      <td>0</td>\n",
       "    </tr>\n",
       "    <tr>\n",
       "      <th>2084</th>\n",
       "      <td>2022-12-30</td>\n",
       "      <td>0</td>\n",
       "      <td>0</td>\n",
       "      <td>1</td>\n",
       "      <td>0</td>\n",
       "      <td>0</td>\n",
       "      <td>0</td>\n",
       "      <td>0</td>\n",
       "      <td>0</td>\n",
       "      <td>0</td>\n",
       "      <td>...</td>\n",
       "      <td>0</td>\n",
       "      <td>0</td>\n",
       "      <td>0</td>\n",
       "      <td>0</td>\n",
       "      <td>0</td>\n",
       "      <td>0</td>\n",
       "      <td>0</td>\n",
       "      <td>0</td>\n",
       "      <td>0</td>\n",
       "      <td>0</td>\n",
       "    </tr>\n",
       "  </tbody>\n",
       "</table>\n",
       "<p>2 rows × 94 columns</p>\n",
       "</div>"
      ],
      "text/plain": [
       "           Date  SOIFP  PKNPW  PHIANA  REPSQ  TEFSQ  CSFP  LXILN  RFFP  SAFFP  \\\n",
       "2083 2022-12-29      0      0       1      0      0     0      0     0      0   \n",
       "2084 2022-12-30      0      0       1      0      0     0      0     0      0   \n",
       "\n",
       "      ...  SCABSS  ROCKBDC  CLNSE  HOLNSE  LONNSE  UPMFH  LRFP  SLHNSE  \\\n",
       "2083  ...       0        0      0       0       0      0     0       0   \n",
       "2084  ...       0        0      0       0       0      0     0       0   \n",
       "\n",
       "      COFBBB  HOLMBSS  \n",
       "2083       0        0  \n",
       "2084       0        0  \n",
       "\n",
       "[2 rows x 94 columns]"
      ]
     },
     "execution_count": 125,
     "metadata": {},
     "output_type": "execute_result"
    }
   ],
   "source": [
    "bubble_res_BUB_6bubs = bubble_res_BUB[comps_6bubs]\n",
    "bubble_res_BUB_6bubs_ex2023 = bubble_res_BUB_6bubs[bubble_res_BUB_6bubs['Date']<'2023-01-01']\n",
    "bubble_res_BUB_6bubs_ex2023.tail(2)"
   ]
  },
  {
   "cell_type": "code",
   "execution_count": 126,
   "id": "20861e3d-321e-424c-8368-4f81c5a6f5a3",
   "metadata": {},
   "outputs": [
    {
     "data": {
      "text/html": [
       "<div>\n",
       "<style scoped>\n",
       "    .dataframe tbody tr th:only-of-type {\n",
       "        vertical-align: middle;\n",
       "    }\n",
       "\n",
       "    .dataframe tbody tr th {\n",
       "        vertical-align: top;\n",
       "    }\n",
       "\n",
       "    .dataframe thead th {\n",
       "        text-align: right;\n",
       "    }\n",
       "</style>\n",
       "<table border=\"1\" class=\"dataframe\">\n",
       "  <thead>\n",
       "    <tr style=\"text-align: right;\">\n",
       "      <th></th>\n",
       "      <th>Date</th>\n",
       "      <th>SOIFP</th>\n",
       "      <th>PKNPW</th>\n",
       "      <th>PHIANA</th>\n",
       "      <th>REPSQ</th>\n",
       "      <th>TEFSQ</th>\n",
       "      <th>CSFP</th>\n",
       "      <th>LXILN</th>\n",
       "      <th>RFFP</th>\n",
       "      <th>SAFFP</th>\n",
       "      <th>...</th>\n",
       "      <th>SCABSS</th>\n",
       "      <th>ROCKBDC</th>\n",
       "      <th>CLNSE</th>\n",
       "      <th>HOLNSE</th>\n",
       "      <th>LONNSE</th>\n",
       "      <th>UPMFH</th>\n",
       "      <th>LRFP</th>\n",
       "      <th>SLHNSE</th>\n",
       "      <th>COFBBB</th>\n",
       "      <th>HOLMBSS</th>\n",
       "    </tr>\n",
       "  </thead>\n",
       "  <tbody>\n",
       "    <tr>\n",
       "      <th>2083</th>\n",
       "      <td>2022-12-29</td>\n",
       "      <td>155.55</td>\n",
       "      <td>64.50</td>\n",
       "      <td>13.6618</td>\n",
       "      <td>14.985</td>\n",
       "      <td>3.446</td>\n",
       "      <td>26.400</td>\n",
       "      <td>114.2</td>\n",
       "      <td>59.0</td>\n",
       "      <td>118.02</td>\n",
       "      <td>...</td>\n",
       "      <td>134.80</td>\n",
       "      <td>1640.5</td>\n",
       "      <td>14.83</td>\n",
       "      <td>48.12</td>\n",
       "      <td>461.2</td>\n",
       "      <td>35.15</td>\n",
       "      <td>76.28</td>\n",
       "      <td>481.2</td>\n",
       "      <td>84.15</td>\n",
       "      <td>419.4</td>\n",
       "    </tr>\n",
       "    <tr>\n",
       "      <th>2084</th>\n",
       "      <td>2022-12-30</td>\n",
       "      <td>152.85</td>\n",
       "      <td>64.24</td>\n",
       "      <td>13.4053</td>\n",
       "      <td>14.850</td>\n",
       "      <td>3.385</td>\n",
       "      <td>26.055</td>\n",
       "      <td>112.6</td>\n",
       "      <td>58.1</td>\n",
       "      <td>116.92</td>\n",
       "      <td>...</td>\n",
       "      <td>131.95</td>\n",
       "      <td>1633.0</td>\n",
       "      <td>14.65</td>\n",
       "      <td>47.88</td>\n",
       "      <td>453.1</td>\n",
       "      <td>34.93</td>\n",
       "      <td>74.82</td>\n",
       "      <td>476.8</td>\n",
       "      <td>83.70</td>\n",
       "      <td>413.9</td>\n",
       "    </tr>\n",
       "  </tbody>\n",
       "</table>\n",
       "<p>2 rows × 94 columns</p>\n",
       "</div>"
      ],
      "text/plain": [
       "           Date   SOIFP  PKNPW   PHIANA   REPSQ  TEFSQ    CSFP  LXILN  RFFP  \\\n",
       "2083 2022-12-29  155.55  64.50  13.6618  14.985  3.446  26.400  114.2  59.0   \n",
       "2084 2022-12-30  152.85  64.24  13.4053  14.850  3.385  26.055  112.6  58.1   \n",
       "\n",
       "       SAFFP  ...  SCABSS  ROCKBDC  CLNSE  HOLNSE  LONNSE  UPMFH   LRFP  \\\n",
       "2083  118.02  ...  134.80   1640.5  14.83   48.12   461.2  35.15  76.28   \n",
       "2084  116.92  ...  131.95   1633.0  14.65   47.88   453.1  34.93  74.82   \n",
       "\n",
       "      SLHNSE  COFBBB  HOLMBSS  \n",
       "2083   481.2   84.15    419.4  \n",
       "2084   476.8   83.70    413.9  \n",
       "\n",
       "[2 rows x 94 columns]"
      ]
     },
     "execution_count": 126,
     "metadata": {},
     "output_type": "execute_result"
    }
   ],
   "source": [
    "prices_6bubs = prices[comps_6bubs]\n",
    "prices_6bubs_ex2023 = prices_6bubs[prices_6bubs['Date']<'2023-01-01']\n",
    "prices_6bubs_ex2023.tail(2)"
   ]
  },
  {
   "cell_type": "code",
   "execution_count": 154,
   "id": "f9456242-44a2-4e4a-bde3-040a1782a9a5",
   "metadata": {},
   "outputs": [
    {
     "data": {
      "text/html": [
       "<div>\n",
       "<style scoped>\n",
       "    .dataframe tbody tr th:only-of-type {\n",
       "        vertical-align: middle;\n",
       "    }\n",
       "\n",
       "    .dataframe tbody tr th {\n",
       "        vertical-align: top;\n",
       "    }\n",
       "\n",
       "    .dataframe thead th {\n",
       "        text-align: right;\n",
       "    }\n",
       "</style>\n",
       "<table border=\"1\" class=\"dataframe\">\n",
       "  <thead>\n",
       "    <tr style=\"text-align: right;\">\n",
       "      <th></th>\n",
       "      <th>unique_id</th>\n",
       "      <th>ds</th>\n",
       "      <th>y</th>\n",
       "      <th>prices</th>\n",
       "    </tr>\n",
       "  </thead>\n",
       "  <tbody>\n",
       "    <tr>\n",
       "      <th>0</th>\n",
       "      <td>SOIFP</td>\n",
       "      <td>2015-01-05</td>\n",
       "      <td>0</td>\n",
       "      <td>16.633</td>\n",
       "    </tr>\n",
       "    <tr>\n",
       "      <th>1</th>\n",
       "      <td>SOIFP</td>\n",
       "      <td>2015-01-06</td>\n",
       "      <td>0</td>\n",
       "      <td>16.633</td>\n",
       "    </tr>\n",
       "  </tbody>\n",
       "</table>\n",
       "</div>"
      ],
      "text/plain": [
       "  unique_id         ds  y  prices\n",
       "0     SOIFP 2015-01-05  0  16.633\n",
       "1     SOIFP 2015-01-06  0  16.633"
      ]
     },
     "execution_count": 154,
     "metadata": {},
     "output_type": "execute_result"
    }
   ],
   "source": [
    "nixtla_df_6bubs_ex2023 = bubble_res_BUB_6bubs_ex2023[comps_6bubs].melt(var_name='unique_id', id_vars = ['Date'], value_name='y')\n",
    "nixtla_df_6bubs_ex2023 =nixtla_df_6bubs_ex2023[['unique_id', 'Date', 'y']]\n",
    "nixtla_df_6bubs_ex2023 = nixtla_df_6bubs_ex2023.rename(columns={'Date': 'ds'})\n",
    "prices_nixtla_6bubs_ex2023 = prices_6bubs_ex2023[comps_6bubs].melt(var_name='unique_id', id_vars = ['Date'], value_name='prices')\n",
    "nixtla_df_6bubs_ex2023['prices']=prices_nixtla_6bubs_ex2023['prices'].values\n",
    "# nixtla_df['ds']=prices_nixtla['Date']\n",
    "nixtla_df_6bubs_ex2023['ds']=pd.to_datetime(nixtla_df_6bubs_ex2023['ds'])\n",
    "nixtla_df_6bubs_ex2023.head(2)"
   ]
  },
  {
   "cell_type": "code",
   "execution_count": 139,
   "id": "0f2db02f-d84d-404a-a1c9-72c20a68f7b7",
   "metadata": {},
   "outputs": [
    {
     "data": {
      "text/html": [
       "<div>\n",
       "<style scoped>\n",
       "    .dataframe tbody tr th:only-of-type {\n",
       "        vertical-align: middle;\n",
       "    }\n",
       "\n",
       "    .dataframe tbody tr th {\n",
       "        vertical-align: top;\n",
       "    }\n",
       "\n",
       "    .dataframe thead th {\n",
       "        text-align: right;\n",
       "    }\n",
       "</style>\n",
       "<table border=\"1\" class=\"dataframe\">\n",
       "  <thead>\n",
       "    <tr style=\"text-align: right;\">\n",
       "      <th></th>\n",
       "      <th>id</th>\n",
       "      <th>time</th>\n",
       "      <th>x</th>\n",
       "      <th>y</th>\n",
       "    </tr>\n",
       "  </thead>\n",
       "  <tbody>\n",
       "    <tr>\n",
       "      <th>0</th>\n",
       "      <td>1</td>\n",
       "      <td>1</td>\n",
       "      <td>1</td>\n",
       "      <td>5</td>\n",
       "    </tr>\n",
       "    <tr>\n",
       "      <th>1</th>\n",
       "      <td>1</td>\n",
       "      <td>2</td>\n",
       "      <td>2</td>\n",
       "      <td>6</td>\n",
       "    </tr>\n",
       "    <tr>\n",
       "      <th>2</th>\n",
       "      <td>1</td>\n",
       "      <td>3</td>\n",
       "      <td>3</td>\n",
       "      <td>7</td>\n",
       "    </tr>\n",
       "    <tr>\n",
       "      <th>3</th>\n",
       "      <td>1</td>\n",
       "      <td>4</td>\n",
       "      <td>4</td>\n",
       "      <td>8</td>\n",
       "    </tr>\n",
       "    <tr>\n",
       "      <th>4</th>\n",
       "      <td>2</td>\n",
       "      <td>8</td>\n",
       "      <td>10</td>\n",
       "      <td>12</td>\n",
       "    </tr>\n",
       "    <tr>\n",
       "      <th>5</th>\n",
       "      <td>2</td>\n",
       "      <td>9</td>\n",
       "      <td>11</td>\n",
       "      <td>13</td>\n",
       "    </tr>\n",
       "  </tbody>\n",
       "</table>\n",
       "</div>"
      ],
      "text/plain": [
       "   id  time   x   y\n",
       "0   1     1   1   5\n",
       "1   1     2   2   6\n",
       "2   1     3   3   7\n",
       "3   1     4   4   8\n",
       "4   2     8  10  12\n",
       "5   2     9  11  13"
      ]
     },
     "execution_count": 139,
     "metadata": {},
     "output_type": "execute_result"
    }
   ],
   "source": [
    "import pandas as pd\n",
    "df = pd.DataFrame({\n",
    "   \"id\": [1, 1, 1, 1, 2, 2],\n",
    "   \"time\": [1, 2, 3, 4, 8, 9],\n",
    "   \"x\": [1, 2, 3, 4, 10, 11],\n",
    "   \"y\": [5, 6, 7, 8, 12, 13],\n",
    "})\n",
    "df"
   ]
  },
  {
   "cell_type": "code",
   "execution_count": 142,
   "id": "6fa539f6-c6cc-4a41-94d8-51e1e0f4c226",
   "metadata": {},
   "outputs": [
    {
     "name": "stderr",
     "output_type": "stream",
     "text": [
      "Rolling: 100%|███████████████████████████████████████████████████████████████████████████| 4/4 [00:04<00:00,  1.25s/it]\n"
     ]
    }
   ],
   "source": [
    "from tsfresh.utilities.dataframe_functions import roll_time_series\n",
    "df_rolled = roll_time_series(df, column_id=\"id\", column_sort=\"time\", max_timeshift=1, min_timeshift=1)"
   ]
  },
  {
   "cell_type": "code",
   "execution_count": 143,
   "id": "095cb6da-eefd-4161-bc28-7cbdae1f6cec",
   "metadata": {},
   "outputs": [
    {
     "data": {
      "text/html": [
       "<div>\n",
       "<style scoped>\n",
       "    .dataframe tbody tr th:only-of-type {\n",
       "        vertical-align: middle;\n",
       "    }\n",
       "\n",
       "    .dataframe tbody tr th {\n",
       "        vertical-align: top;\n",
       "    }\n",
       "\n",
       "    .dataframe thead th {\n",
       "        text-align: right;\n",
       "    }\n",
       "</style>\n",
       "<table border=\"1\" class=\"dataframe\">\n",
       "  <thead>\n",
       "    <tr style=\"text-align: right;\">\n",
       "      <th></th>\n",
       "      <th>id</th>\n",
       "      <th>time</th>\n",
       "      <th>x</th>\n",
       "      <th>y</th>\n",
       "    </tr>\n",
       "  </thead>\n",
       "  <tbody>\n",
       "    <tr>\n",
       "      <th>0</th>\n",
       "      <td>(1, 2)</td>\n",
       "      <td>1</td>\n",
       "      <td>1</td>\n",
       "      <td>5</td>\n",
       "    </tr>\n",
       "    <tr>\n",
       "      <th>1</th>\n",
       "      <td>(1, 2)</td>\n",
       "      <td>2</td>\n",
       "      <td>2</td>\n",
       "      <td>6</td>\n",
       "    </tr>\n",
       "    <tr>\n",
       "      <th>4</th>\n",
       "      <td>(1, 3)</td>\n",
       "      <td>2</td>\n",
       "      <td>2</td>\n",
       "      <td>6</td>\n",
       "    </tr>\n",
       "    <tr>\n",
       "      <th>5</th>\n",
       "      <td>(1, 3)</td>\n",
       "      <td>3</td>\n",
       "      <td>3</td>\n",
       "      <td>7</td>\n",
       "    </tr>\n",
       "    <tr>\n",
       "      <th>6</th>\n",
       "      <td>(1, 4)</td>\n",
       "      <td>3</td>\n",
       "      <td>3</td>\n",
       "      <td>7</td>\n",
       "    </tr>\n",
       "    <tr>\n",
       "      <th>7</th>\n",
       "      <td>(1, 4)</td>\n",
       "      <td>4</td>\n",
       "      <td>4</td>\n",
       "      <td>8</td>\n",
       "    </tr>\n",
       "    <tr>\n",
       "      <th>2</th>\n",
       "      <td>(2, 9)</td>\n",
       "      <td>8</td>\n",
       "      <td>10</td>\n",
       "      <td>12</td>\n",
       "    </tr>\n",
       "    <tr>\n",
       "      <th>3</th>\n",
       "      <td>(2, 9)</td>\n",
       "      <td>9</td>\n",
       "      <td>11</td>\n",
       "      <td>13</td>\n",
       "    </tr>\n",
       "  </tbody>\n",
       "</table>\n",
       "</div>"
      ],
      "text/plain": [
       "       id  time   x   y\n",
       "0  (1, 2)     1   1   5\n",
       "1  (1, 2)     2   2   6\n",
       "4  (1, 3)     2   2   6\n",
       "5  (1, 3)     3   3   7\n",
       "6  (1, 4)     3   3   7\n",
       "7  (1, 4)     4   4   8\n",
       "2  (2, 9)     8  10  12\n",
       "3  (2, 9)     9  11  13"
      ]
     },
     "execution_count": 143,
     "metadata": {},
     "output_type": "execute_result"
    }
   ],
   "source": [
    "df_rolled"
   ]
  },
  {
   "cell_type": "code",
   "execution_count": null,
   "id": "48dda0b1-e387-4914-b84a-acd607f7074e",
   "metadata": {},
   "outputs": [],
   "source": [
    "df_rolled = roll_time_series(df, column_id=\"id\", column_sort=\"time\", max_timeshift=1, min_timeshift=1)"
   ]
  },
  {
   "cell_type": "code",
   "execution_count": 144,
   "id": "96e03a0e-7f11-4b14-b36b-fc5b202d6659",
   "metadata": {},
   "outputs": [
    {
     "data": {
      "text/plain": [
       "array(['SOIFP', 'PKNPW', 'PHIANA', 'REPSQ', 'TEFSQ', 'CSFP', 'LXILN',\n",
       "       'RFFP', 'SAFFP', 'MTXGY', 'AEDBB', 'INDTSS', 'ADPFP', 'KINDSDBSS',\n",
       "       'FORTUMFH', 'IPNFP', 'TENIM', 'BIMFP', 'CABKSQ', 'AKRBPNO',\n",
       "       'ESSITYBSS', 'VALMTFH', 'AXFOSS', 'EVKGY', 'ERFFP', 'NEXIIM',\n",
       "       'GAWLN', 'RILBADC', 'SPLPW', 'COLSQ', 'STLAMIM', 'BATSLN', 'ALVGY',\n",
       "       'DBKGY', 'BASGY', 'HEN3GY', 'VOW3GY', 'SAPGY', 'TKAGY', 'DB1GY',\n",
       "       'CONGY', 'INCHLN', 'SALMNO', 'MKSLN', 'PSNLN', 'CDIFP', 'VIVFP',\n",
       "       'PUBFP', 'TOPDC', 'RNOFP', 'FRFP', 'SWECBSS', 'EKTABSS', 'RHMGY',\n",
       "       'BRBYLN', 'CPGLN', 'ITVLN', 'CRDALN', 'GALESE', 'BWYLN', 'INDUCSS',\n",
       "       'HSBALN', 'SGROLN', 'SBRYLN', 'PNNLN', 'VNAGY', 'FDJFP', 'WEIRLN',\n",
       "       'BUCNSE', 'TIGOSS', 'ANDRAV', 'CNHIIM', 'SRT3GY', 'CCHLN', 'CHRDC',\n",
       "       'EQNRNO', 'AENASQ', 'OMVAV', 'JMATLN', 'CNALN', 'SKFBSS',\n",
       "       'TRELBSS', 'DANSKEDC', 'SCABSS', 'ROCKBDC', 'CLNSE', 'HOLNSE',\n",
       "       'LONNSE', 'UPMFH', 'LRFP', 'SLHNSE', 'COFBBB', 'HOLMBSS'],\n",
       "      dtype=object)"
      ]
     },
     "execution_count": 144,
     "metadata": {},
     "output_type": "execute_result"
    }
   ],
   "source": [
    "nixtla_df_6bubs_ex2023['unique_id'].unique()"
   ]
  },
  {
   "cell_type": "code",
   "execution_count": 148,
   "id": "21845ea3-9255-48e1-8ab4-8d858a9e2033",
   "metadata": {},
   "outputs": [
    {
     "data": {
      "text/html": [
       "<div>\n",
       "<style scoped>\n",
       "    .dataframe tbody tr th:only-of-type {\n",
       "        vertical-align: middle;\n",
       "    }\n",
       "\n",
       "    .dataframe tbody tr th {\n",
       "        vertical-align: top;\n",
       "    }\n",
       "\n",
       "    .dataframe thead th {\n",
       "        text-align: right;\n",
       "    }\n",
       "</style>\n",
       "<table border=\"1\" class=\"dataframe\">\n",
       "  <thead>\n",
       "    <tr style=\"text-align: right;\">\n",
       "      <th></th>\n",
       "      <th>id</th>\n",
       "      <th>time</th>\n",
       "      <th>prices</th>\n",
       "    </tr>\n",
       "  </thead>\n",
       "  <tbody>\n",
       "    <tr>\n",
       "      <th>0</th>\n",
       "      <td>SOIFP</td>\n",
       "      <td>2015-01-05</td>\n",
       "      <td>16.6330</td>\n",
       "    </tr>\n",
       "    <tr>\n",
       "      <th>1</th>\n",
       "      <td>SOIFP</td>\n",
       "      <td>2015-01-06</td>\n",
       "      <td>16.6330</td>\n",
       "    </tr>\n",
       "    <tr>\n",
       "      <th>2</th>\n",
       "      <td>SOIFP</td>\n",
       "      <td>2015-01-07</td>\n",
       "      <td>16.1532</td>\n",
       "    </tr>\n",
       "    <tr>\n",
       "      <th>3</th>\n",
       "      <td>SOIFP</td>\n",
       "      <td>2015-01-08</td>\n",
       "      <td>16.4731</td>\n",
       "    </tr>\n",
       "    <tr>\n",
       "      <th>4</th>\n",
       "      <td>SOIFP</td>\n",
       "      <td>2015-01-09</td>\n",
       "      <td>16.4731</td>\n",
       "    </tr>\n",
       "    <tr>\n",
       "      <th>...</th>\n",
       "      <td>...</td>\n",
       "      <td>...</td>\n",
       "      <td>...</td>\n",
       "    </tr>\n",
       "    <tr>\n",
       "      <th>4165</th>\n",
       "      <td>PKNPW</td>\n",
       "      <td>2022-12-26</td>\n",
       "      <td>63.7000</td>\n",
       "    </tr>\n",
       "    <tr>\n",
       "      <th>4166</th>\n",
       "      <td>PKNPW</td>\n",
       "      <td>2022-12-27</td>\n",
       "      <td>63.7200</td>\n",
       "    </tr>\n",
       "    <tr>\n",
       "      <th>4167</th>\n",
       "      <td>PKNPW</td>\n",
       "      <td>2022-12-28</td>\n",
       "      <td>63.6200</td>\n",
       "    </tr>\n",
       "    <tr>\n",
       "      <th>4168</th>\n",
       "      <td>PKNPW</td>\n",
       "      <td>2022-12-29</td>\n",
       "      <td>64.5000</td>\n",
       "    </tr>\n",
       "    <tr>\n",
       "      <th>4169</th>\n",
       "      <td>PKNPW</td>\n",
       "      <td>2022-12-30</td>\n",
       "      <td>64.2400</td>\n",
       "    </tr>\n",
       "  </tbody>\n",
       "</table>\n",
       "<p>4170 rows × 3 columns</p>\n",
       "</div>"
      ],
      "text/plain": [
       "         id       time   prices\n",
       "0     SOIFP 2015-01-05  16.6330\n",
       "1     SOIFP 2015-01-06  16.6330\n",
       "2     SOIFP 2015-01-07  16.1532\n",
       "3     SOIFP 2015-01-08  16.4731\n",
       "4     SOIFP 2015-01-09  16.4731\n",
       "...     ...        ...      ...\n",
       "4165  PKNPW 2022-12-26  63.7000\n",
       "4166  PKNPW 2022-12-27  63.7200\n",
       "4167  PKNPW 2022-12-28  63.6200\n",
       "4168  PKNPW 2022-12-29  64.5000\n",
       "4169  PKNPW 2022-12-30  64.2400\n",
       "\n",
       "[4170 rows x 3 columns]"
      ]
     },
     "execution_count": 148,
     "metadata": {},
     "output_type": "execute_result"
    }
   ],
   "source": [
    "nixtla_df_6bubs_ex2023_test =nixtla_df_6bubs_ex2023[nixtla_df_6bubs_ex2023['unique_id'].isin(['SOIFP', 'PKNPW'])]\n",
    "nixtla_df_6bubs_ex2023_test.columns = ['id', 'time', 'y', 'prices']\n",
    "nixtla_df_6bubs_ex2023_test = nixtla_df_6bubs_ex2023_test.drop('y', axis=1)\n",
    "nixtla_df_6bubs_ex2023_test"
   ]
  },
  {
   "cell_type": "code",
   "execution_count": 150,
   "id": "1d4c6e7a-8790-46a8-a6a6-f4c32cabf98c",
   "metadata": {},
   "outputs": [
    {
     "name": "stderr",
     "output_type": "stream",
     "text": [
      "Rolling: 100%|█████████████████████████████████████████████████████████████████████████| 50/50 [00:05<00:00,  8.56it/s]\n"
     ]
    },
    {
     "data": {
      "text/html": [
       "<div>\n",
       "<style scoped>\n",
       "    .dataframe tbody tr th:only-of-type {\n",
       "        vertical-align: middle;\n",
       "    }\n",
       "\n",
       "    .dataframe tbody tr th {\n",
       "        vertical-align: top;\n",
       "    }\n",
       "\n",
       "    .dataframe thead th {\n",
       "        text-align: right;\n",
       "    }\n",
       "</style>\n",
       "<table border=\"1\" class=\"dataframe\">\n",
       "  <thead>\n",
       "    <tr style=\"text-align: right;\">\n",
       "      <th></th>\n",
       "      <th>id</th>\n",
       "      <th>time</th>\n",
       "      <th>prices</th>\n",
       "    </tr>\n",
       "  </thead>\n",
       "  <tbody>\n",
       "    <tr>\n",
       "      <th>0</th>\n",
       "      <td>(PKNPW, 2015-05-22 00:00:00)</td>\n",
       "      <td>2015-01-05</td>\n",
       "      <td>47.75</td>\n",
       "    </tr>\n",
       "    <tr>\n",
       "      <th>1</th>\n",
       "      <td>(PKNPW, 2015-05-22 00:00:00)</td>\n",
       "      <td>2015-01-06</td>\n",
       "      <td>47.75</td>\n",
       "    </tr>\n",
       "    <tr>\n",
       "      <th>2</th>\n",
       "      <td>(PKNPW, 2015-05-22 00:00:00)</td>\n",
       "      <td>2015-01-07</td>\n",
       "      <td>49.94</td>\n",
       "    </tr>\n",
       "    <tr>\n",
       "      <th>3</th>\n",
       "      <td>(PKNPW, 2015-05-22 00:00:00)</td>\n",
       "      <td>2015-01-08</td>\n",
       "      <td>51.30</td>\n",
       "    </tr>\n",
       "    <tr>\n",
       "      <th>4</th>\n",
       "      <td>(PKNPW, 2015-05-22 00:00:00)</td>\n",
       "      <td>2015-01-09</td>\n",
       "      <td>51.27</td>\n",
       "    </tr>\n",
       "  </tbody>\n",
       "</table>\n",
       "</div>"
      ],
      "text/plain": [
       "                             id       time  prices\n",
       "0  (PKNPW, 2015-05-22 00:00:00) 2015-01-05   47.75\n",
       "1  (PKNPW, 2015-05-22 00:00:00) 2015-01-06   47.75\n",
       "2  (PKNPW, 2015-05-22 00:00:00) 2015-01-07   49.94\n",
       "3  (PKNPW, 2015-05-22 00:00:00) 2015-01-08   51.30\n",
       "4  (PKNPW, 2015-05-22 00:00:00) 2015-01-09   51.27"
      ]
     },
     "execution_count": 150,
     "metadata": {},
     "output_type": "execute_result"
    }
   ],
   "source": [
    "df_rolled_test = roll_time_series(nixtla_df_6bubs_ex2023_test, column_id=\"id\", column_sort=\"time\", max_timeshift=99, min_timeshift=99)\n",
    "# df_rolled_test.to_excel('df_rolled_test.xlsx')\n",
    "df_rolled_test.head()"
   ]
  },
  {
   "cell_type": "code",
   "execution_count": 151,
   "id": "a2027277-b54e-4c7e-963a-f24c68e6f80e",
   "metadata": {},
   "outputs": [
    {
     "name": "stderr",
     "output_type": "stream",
     "text": [
      "Feature Extraction: 100%|██████████████████████████████████████████████████████████████| 50/50 [00:30<00:00,  1.64it/s]\n"
     ]
    },
    {
     "data": {
      "text/html": [
       "<div>\n",
       "<style scoped>\n",
       "    .dataframe tbody tr th:only-of-type {\n",
       "        vertical-align: middle;\n",
       "    }\n",
       "\n",
       "    .dataframe tbody tr th {\n",
       "        vertical-align: top;\n",
       "    }\n",
       "\n",
       "    .dataframe thead th {\n",
       "        text-align: right;\n",
       "    }\n",
       "</style>\n",
       "<table border=\"1\" class=\"dataframe\">\n",
       "  <thead>\n",
       "    <tr style=\"text-align: right;\">\n",
       "      <th></th>\n",
       "      <th></th>\n",
       "      <th>prices__variance_larger_than_standard_deviation</th>\n",
       "      <th>prices__has_duplicate_max</th>\n",
       "      <th>prices__has_duplicate_min</th>\n",
       "      <th>prices__has_duplicate</th>\n",
       "      <th>prices__sum_values</th>\n",
       "      <th>prices__abs_energy</th>\n",
       "      <th>prices__mean_abs_change</th>\n",
       "      <th>prices__mean_change</th>\n",
       "      <th>prices__mean_second_derivative_central</th>\n",
       "      <th>prices__median</th>\n",
       "      <th>...</th>\n",
       "      <th>prices__fourier_entropy__bins_5</th>\n",
       "      <th>prices__fourier_entropy__bins_10</th>\n",
       "      <th>prices__fourier_entropy__bins_100</th>\n",
       "      <th>prices__permutation_entropy__dimension_3__tau_1</th>\n",
       "      <th>prices__permutation_entropy__dimension_4__tau_1</th>\n",
       "      <th>prices__permutation_entropy__dimension_5__tau_1</th>\n",
       "      <th>prices__permutation_entropy__dimension_6__tau_1</th>\n",
       "      <th>prices__permutation_entropy__dimension_7__tau_1</th>\n",
       "      <th>prices__query_similarity_count__query_None__threshold_0.0</th>\n",
       "      <th>prices__mean_n_absolute_max__number_of_maxima_7</th>\n",
       "    </tr>\n",
       "  </thead>\n",
       "  <tbody>\n",
       "    <tr>\n",
       "      <th rowspan=\"5\" valign=\"top\">PKNPW</th>\n",
       "      <th>2015-05-22</th>\n",
       "      <td>1.0</td>\n",
       "      <td>0.0</td>\n",
       "      <td>1.0</td>\n",
       "      <td>1.0</td>\n",
       "      <td>5880.61</td>\n",
       "      <td>350061.5503</td>\n",
       "      <td>0.927273</td>\n",
       "      <td>0.245455</td>\n",
       "      <td>-0.002296</td>\n",
       "      <td>56.450</td>\n",
       "      <td>...</td>\n",
       "      <td>0.192626</td>\n",
       "      <td>0.192626</td>\n",
       "      <td>0.668811</td>\n",
       "      <td>1.647320</td>\n",
       "      <td>2.746174</td>\n",
       "      <td>3.666921</td>\n",
       "      <td>4.196216</td>\n",
       "      <td>4.381069</td>\n",
       "      <td>NaN</td>\n",
       "      <td>71.527143</td>\n",
       "    </tr>\n",
       "    <tr>\n",
       "      <th>2015-05-25</th>\n",
       "      <td>1.0</td>\n",
       "      <td>0.0</td>\n",
       "      <td>0.0</td>\n",
       "      <td>1.0</td>\n",
       "      <td>5903.36</td>\n",
       "      <td>352751.7378</td>\n",
       "      <td>0.942929</td>\n",
       "      <td>0.229798</td>\n",
       "      <td>-0.019082</td>\n",
       "      <td>56.475</td>\n",
       "      <td>...</td>\n",
       "      <td>0.192626</td>\n",
       "      <td>0.192626</td>\n",
       "      <td>0.602410</td>\n",
       "      <td>1.656336</td>\n",
       "      <td>2.760242</td>\n",
       "      <td>3.670460</td>\n",
       "      <td>4.210809</td>\n",
       "      <td>4.395817</td>\n",
       "      <td>NaN</td>\n",
       "      <td>71.628571</td>\n",
       "    </tr>\n",
       "    <tr>\n",
       "      <th>2015-05-26</th>\n",
       "      <td>1.0</td>\n",
       "      <td>0.0</td>\n",
       "      <td>0.0</td>\n",
       "      <td>1.0</td>\n",
       "      <td>5927.16</td>\n",
       "      <td>355591.0778</td>\n",
       "      <td>0.931414</td>\n",
       "      <td>0.218283</td>\n",
       "      <td>-0.001582</td>\n",
       "      <td>56.500</td>\n",
       "      <td>...</td>\n",
       "      <td>0.192626</td>\n",
       "      <td>0.192626</td>\n",
       "      <td>0.612670</td>\n",
       "      <td>1.669054</td>\n",
       "      <td>2.758515</td>\n",
       "      <td>3.675911</td>\n",
       "      <td>4.225401</td>\n",
       "      <td>4.395817</td>\n",
       "      <td>NaN</td>\n",
       "      <td>71.878571</td>\n",
       "    </tr>\n",
       "    <tr>\n",
       "      <th>2015-05-27</th>\n",
       "      <td>1.0</td>\n",
       "      <td>0.0</td>\n",
       "      <td>0.0</td>\n",
       "      <td>1.0</td>\n",
       "      <td>5950.12</td>\n",
       "      <td>358411.4842</td>\n",
       "      <td>0.931313</td>\n",
       "      <td>0.218182</td>\n",
       "      <td>0.007041</td>\n",
       "      <td>56.500</td>\n",
       "      <td>...</td>\n",
       "      <td>0.192626</td>\n",
       "      <td>0.192626</td>\n",
       "      <td>0.545824</td>\n",
       "      <td>1.656336</td>\n",
       "      <td>2.754713</td>\n",
       "      <td>3.675911</td>\n",
       "      <td>4.210809</td>\n",
       "      <td>4.395817</td>\n",
       "      <td>NaN</td>\n",
       "      <td>72.321429</td>\n",
       "    </tr>\n",
       "    <tr>\n",
       "      <th>2015-05-28</th>\n",
       "      <td>1.0</td>\n",
       "      <td>0.0</td>\n",
       "      <td>0.0</td>\n",
       "      <td>1.0</td>\n",
       "      <td>5971.52</td>\n",
       "      <td>361065.0842</td>\n",
       "      <td>0.933030</td>\n",
       "      <td>0.216465</td>\n",
       "      <td>-0.001939</td>\n",
       "      <td>56.750</td>\n",
       "      <td>...</td>\n",
       "      <td>0.192626</td>\n",
       "      <td>0.192626</td>\n",
       "      <td>0.478541</td>\n",
       "      <td>1.657265</td>\n",
       "      <td>2.756439</td>\n",
       "      <td>3.661470</td>\n",
       "      <td>4.210809</td>\n",
       "      <td>4.395817</td>\n",
       "      <td>NaN</td>\n",
       "      <td>72.635714</td>\n",
       "    </tr>\n",
       "  </tbody>\n",
       "</table>\n",
       "<p>5 rows × 783 columns</p>\n",
       "</div>"
      ],
      "text/plain": [
       "                  prices__variance_larger_than_standard_deviation  \\\n",
       "PKNPW 2015-05-22                                              1.0   \n",
       "      2015-05-25                                              1.0   \n",
       "      2015-05-26                                              1.0   \n",
       "      2015-05-27                                              1.0   \n",
       "      2015-05-28                                              1.0   \n",
       "\n",
       "                  prices__has_duplicate_max  prices__has_duplicate_min  \\\n",
       "PKNPW 2015-05-22                        0.0                        1.0   \n",
       "      2015-05-25                        0.0                        0.0   \n",
       "      2015-05-26                        0.0                        0.0   \n",
       "      2015-05-27                        0.0                        0.0   \n",
       "      2015-05-28                        0.0                        0.0   \n",
       "\n",
       "                  prices__has_duplicate  prices__sum_values  \\\n",
       "PKNPW 2015-05-22                    1.0             5880.61   \n",
       "      2015-05-25                    1.0             5903.36   \n",
       "      2015-05-26                    1.0             5927.16   \n",
       "      2015-05-27                    1.0             5950.12   \n",
       "      2015-05-28                    1.0             5971.52   \n",
       "\n",
       "                  prices__abs_energy  prices__mean_abs_change  \\\n",
       "PKNPW 2015-05-22         350061.5503                 0.927273   \n",
       "      2015-05-25         352751.7378                 0.942929   \n",
       "      2015-05-26         355591.0778                 0.931414   \n",
       "      2015-05-27         358411.4842                 0.931313   \n",
       "      2015-05-28         361065.0842                 0.933030   \n",
       "\n",
       "                  prices__mean_change  prices__mean_second_derivative_central  \\\n",
       "PKNPW 2015-05-22             0.245455                               -0.002296   \n",
       "      2015-05-25             0.229798                               -0.019082   \n",
       "      2015-05-26             0.218283                               -0.001582   \n",
       "      2015-05-27             0.218182                                0.007041   \n",
       "      2015-05-28             0.216465                               -0.001939   \n",
       "\n",
       "                  prices__median  ...  prices__fourier_entropy__bins_5  \\\n",
       "PKNPW 2015-05-22          56.450  ...                         0.192626   \n",
       "      2015-05-25          56.475  ...                         0.192626   \n",
       "      2015-05-26          56.500  ...                         0.192626   \n",
       "      2015-05-27          56.500  ...                         0.192626   \n",
       "      2015-05-28          56.750  ...                         0.192626   \n",
       "\n",
       "                  prices__fourier_entropy__bins_10  \\\n",
       "PKNPW 2015-05-22                          0.192626   \n",
       "      2015-05-25                          0.192626   \n",
       "      2015-05-26                          0.192626   \n",
       "      2015-05-27                          0.192626   \n",
       "      2015-05-28                          0.192626   \n",
       "\n",
       "                  prices__fourier_entropy__bins_100  \\\n",
       "PKNPW 2015-05-22                           0.668811   \n",
       "      2015-05-25                           0.602410   \n",
       "      2015-05-26                           0.612670   \n",
       "      2015-05-27                           0.545824   \n",
       "      2015-05-28                           0.478541   \n",
       "\n",
       "                  prices__permutation_entropy__dimension_3__tau_1  \\\n",
       "PKNPW 2015-05-22                                         1.647320   \n",
       "      2015-05-25                                         1.656336   \n",
       "      2015-05-26                                         1.669054   \n",
       "      2015-05-27                                         1.656336   \n",
       "      2015-05-28                                         1.657265   \n",
       "\n",
       "                  prices__permutation_entropy__dimension_4__tau_1  \\\n",
       "PKNPW 2015-05-22                                         2.746174   \n",
       "      2015-05-25                                         2.760242   \n",
       "      2015-05-26                                         2.758515   \n",
       "      2015-05-27                                         2.754713   \n",
       "      2015-05-28                                         2.756439   \n",
       "\n",
       "                  prices__permutation_entropy__dimension_5__tau_1  \\\n",
       "PKNPW 2015-05-22                                         3.666921   \n",
       "      2015-05-25                                         3.670460   \n",
       "      2015-05-26                                         3.675911   \n",
       "      2015-05-27                                         3.675911   \n",
       "      2015-05-28                                         3.661470   \n",
       "\n",
       "                  prices__permutation_entropy__dimension_6__tau_1  \\\n",
       "PKNPW 2015-05-22                                         4.196216   \n",
       "      2015-05-25                                         4.210809   \n",
       "      2015-05-26                                         4.225401   \n",
       "      2015-05-27                                         4.210809   \n",
       "      2015-05-28                                         4.210809   \n",
       "\n",
       "                  prices__permutation_entropy__dimension_7__tau_1  \\\n",
       "PKNPW 2015-05-22                                         4.381069   \n",
       "      2015-05-25                                         4.395817   \n",
       "      2015-05-26                                         4.395817   \n",
       "      2015-05-27                                         4.395817   \n",
       "      2015-05-28                                         4.395817   \n",
       "\n",
       "                  prices__query_similarity_count__query_None__threshold_0.0  \\\n",
       "PKNPW 2015-05-22                                                NaN           \n",
       "      2015-05-25                                                NaN           \n",
       "      2015-05-26                                                NaN           \n",
       "      2015-05-27                                                NaN           \n",
       "      2015-05-28                                                NaN           \n",
       "\n",
       "                  prices__mean_n_absolute_max__number_of_maxima_7  \n",
       "PKNPW 2015-05-22                                        71.527143  \n",
       "      2015-05-25                                        71.628571  \n",
       "      2015-05-26                                        71.878571  \n",
       "      2015-05-27                                        72.321429  \n",
       "      2015-05-28                                        72.635714  \n",
       "\n",
       "[5 rows x 783 columns]"
      ]
     },
     "execution_count": 151,
     "metadata": {},
     "output_type": "execute_result"
    }
   ],
   "source": [
    "from tsfresh import extract_features\n",
    "df_features_test = extract_features(df_rolled_test, column_id=\"id\", column_sort=\"time\")\n",
    "df_features_test.head()"
   ]
  },
  {
   "cell_type": "code",
   "execution_count": 153,
   "id": "d50814c7-7382-4a87-bad5-ab7068c89d5f",
   "metadata": {},
   "outputs": [
    {
     "data": {
      "text/plain": [
       "Index(['prices__variance_larger_than_standard_deviation',\n",
       "       'prices__has_duplicate_max', 'prices__has_duplicate_min',\n",
       "       'prices__has_duplicate', 'prices__sum_values', 'prices__abs_energy',\n",
       "       'prices__mean_abs_change', 'prices__mean_change',\n",
       "       'prices__mean_second_derivative_central', 'prices__median',\n",
       "       ...\n",
       "       'prices__fourier_entropy__bins_5', 'prices__fourier_entropy__bins_10',\n",
       "       'prices__fourier_entropy__bins_100',\n",
       "       'prices__permutation_entropy__dimension_3__tau_1',\n",
       "       'prices__permutation_entropy__dimension_4__tau_1',\n",
       "       'prices__permutation_entropy__dimension_5__tau_1',\n",
       "       'prices__permutation_entropy__dimension_6__tau_1',\n",
       "       'prices__permutation_entropy__dimension_7__tau_1',\n",
       "       'prices__query_similarity_count__query_None__threshold_0.0',\n",
       "       'prices__mean_n_absolute_max__number_of_maxima_7'],\n",
       "      dtype='object', length=783)"
      ]
     },
     "execution_count": 153,
     "metadata": {},
     "output_type": "execute_result"
    }
   ],
   "source": [
    "df_features_test.columns"
   ]
  },
  {
   "cell_type": "code",
   "execution_count": null,
   "id": "3d7e1a31-441a-4dd0-a1d2-27e3a8ff615f",
   "metadata": {},
   "outputs": [],
   "source": [
    "roll_win = 100\n",
    "hor = 24 #mediana nr de zile cu bubbles\n"
   ]
  }
 ],
 "metadata": {
  "kernelspec": {
   "display_name": "nixtla1",
   "language": "python",
   "name": "nixtla1"
  },
  "language_info": {
   "codemirror_mode": {
    "name": "ipython",
    "version": 3
   },
   "file_extension": ".py",
   "mimetype": "text/x-python",
   "name": "python",
   "nbconvert_exporter": "python",
   "pygments_lexer": "ipython3",
   "version": "3.10.13"
  }
 },
 "nbformat": 4,
 "nbformat_minor": 5
}
